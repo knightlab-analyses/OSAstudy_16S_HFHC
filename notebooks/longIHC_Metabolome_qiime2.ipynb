{
 "cells": [
  {
   "cell_type": "code",
   "execution_count": 1,
   "metadata": {
    "scrolled": true
   },
   "outputs": [],
   "source": [
    "import numpy as np\n",
    "import pandas as pd"
   ]
  },
  {
   "cell_type": "code",
   "execution_count": 2,
   "metadata": {},
   "outputs": [
    {
     "data": {
      "text/plain": [
       "'/Users/callaband/Desktop/UCSD/KnightLab/Haddad/16S_HFHC_10wk_IHC/notebooks'"
      ]
     },
     "execution_count": 2,
     "metadata": {},
     "output_type": "execute_result"
    }
   ],
   "source": [
    "pwd"
   ]
  },
  {
   "cell_type": "code",
   "execution_count": 6,
   "metadata": {},
   "outputs": [
    {
     "data": {
      "text/html": [
       "<div>\n",
       "<style scoped>\n",
       "    .dataframe tbody tr th:only-of-type {\n",
       "        vertical-align: middle;\n",
       "    }\n",
       "\n",
       "    .dataframe tbody tr th {\n",
       "        vertical-align: top;\n",
       "    }\n",
       "\n",
       "    .dataframe thead th {\n",
       "        text-align: right;\n",
       "    }\n",
       "</style>\n",
       "<table border=\"1\" class=\"dataframe\">\n",
       "  <thead>\n",
       "    <tr style=\"text-align: right;\">\n",
       "      <th></th>\n",
       "      <th>A15_85_01</th>\n",
       "      <th>A15_85_05</th>\n",
       "      <th>A15_85_10</th>\n",
       "      <th>A15_85_15</th>\n",
       "      <th>A15_85_20</th>\n",
       "      <th>A15_86_01</th>\n",
       "      <th>A15_86_05</th>\n",
       "      <th>A15_86_10</th>\n",
       "      <th>A15_86_15</th>\n",
       "      <th>A15_86_20</th>\n",
       "      <th>...</th>\n",
       "      <th>A23_119_01</th>\n",
       "      <th>A23_119_05</th>\n",
       "      <th>A23_119_10</th>\n",
       "      <th>A23_119_15</th>\n",
       "      <th>A23_119_20</th>\n",
       "      <th>A23_120_01</th>\n",
       "      <th>A23_120_05</th>\n",
       "      <th>A23_120_10</th>\n",
       "      <th>A23_120_15</th>\n",
       "      <th>A23_120_20</th>\n",
       "    </tr>\n",
       "    <tr>\n",
       "      <th>Feature</th>\n",
       "      <th></th>\n",
       "      <th></th>\n",
       "      <th></th>\n",
       "      <th></th>\n",
       "      <th></th>\n",
       "      <th></th>\n",
       "      <th></th>\n",
       "      <th></th>\n",
       "      <th></th>\n",
       "      <th></th>\n",
       "      <th></th>\n",
       "      <th></th>\n",
       "      <th></th>\n",
       "      <th></th>\n",
       "      <th></th>\n",
       "      <th></th>\n",
       "      <th></th>\n",
       "      <th></th>\n",
       "      <th></th>\n",
       "      <th></th>\n",
       "      <th></th>\n",
       "    </tr>\n",
       "  </thead>\n",
       "  <tbody>\n",
       "    <tr>\n",
       "      <th>2237</th>\n",
       "      <td>22812.143</td>\n",
       "      <td>61161.0740</td>\n",
       "      <td>90249.4800</td>\n",
       "      <td>41827.5980</td>\n",
       "      <td>45955.8050</td>\n",
       "      <td>146017.8600</td>\n",
       "      <td>54862.4900</td>\n",
       "      <td>87228.1600</td>\n",
       "      <td>21293.7070</td>\n",
       "      <td>129794.380</td>\n",
       "      <td>...</td>\n",
       "      <td>18974.4790</td>\n",
       "      <td>33770.9100</td>\n",
       "      <td>2917.97240</td>\n",
       "      <td>70166.5860</td>\n",
       "      <td>31857.4020</td>\n",
       "      <td>35618.4180</td>\n",
       "      <td>9.932277e+04</td>\n",
       "      <td>3873.08900</td>\n",
       "      <td>17688.664</td>\n",
       "      <td>1.382372e+04</td>\n",
       "    </tr>\n",
       "    <tr>\n",
       "      <th>1680</th>\n",
       "      <td>61726.860</td>\n",
       "      <td>126151.0800</td>\n",
       "      <td>58835.2900</td>\n",
       "      <td>95104.8400</td>\n",
       "      <td>51764.5400</td>\n",
       "      <td>148775.2500</td>\n",
       "      <td>135138.7200</td>\n",
       "      <td>43956.0470</td>\n",
       "      <td>132286.1900</td>\n",
       "      <td>52236.543</td>\n",
       "      <td>...</td>\n",
       "      <td>258665.7300</td>\n",
       "      <td>883552.7000</td>\n",
       "      <td>581761.44000</td>\n",
       "      <td>583094.2500</td>\n",
       "      <td>701959.2500</td>\n",
       "      <td>106503.9700</td>\n",
       "      <td>1.191515e+06</td>\n",
       "      <td>654667.06000</td>\n",
       "      <td>738894.560</td>\n",
       "      <td>1.101843e+06</td>\n",
       "    </tr>\n",
       "    <tr>\n",
       "      <th>2970</th>\n",
       "      <td>72191.920</td>\n",
       "      <td>99769.2340</td>\n",
       "      <td>0.0000</td>\n",
       "      <td>0.0000</td>\n",
       "      <td>179541.9800</td>\n",
       "      <td>0.0000</td>\n",
       "      <td>155414.6400</td>\n",
       "      <td>2019.9541</td>\n",
       "      <td>176011.6700</td>\n",
       "      <td>394263.600</td>\n",
       "      <td>...</td>\n",
       "      <td>352718.6600</td>\n",
       "      <td>0.0000</td>\n",
       "      <td>0.00000</td>\n",
       "      <td>0.0000</td>\n",
       "      <td>0.0000</td>\n",
       "      <td>0.0000</td>\n",
       "      <td>0.000000e+00</td>\n",
       "      <td>0.00000</td>\n",
       "      <td>0.000</td>\n",
       "      <td>0.000000e+00</td>\n",
       "    </tr>\n",
       "    <tr>\n",
       "      <th>6894</th>\n",
       "      <td>18688.754</td>\n",
       "      <td>9300.7320</td>\n",
       "      <td>2669.1455</td>\n",
       "      <td>0.0000</td>\n",
       "      <td>14387.2730</td>\n",
       "      <td>963.2151</td>\n",
       "      <td>21551.7640</td>\n",
       "      <td>11849.3400</td>\n",
       "      <td>4417.8040</td>\n",
       "      <td>39862.734</td>\n",
       "      <td>...</td>\n",
       "      <td>8038.1797</td>\n",
       "      <td>1870.0122</td>\n",
       "      <td>543.98285</td>\n",
       "      <td>1157.9121</td>\n",
       "      <td>4496.9287</td>\n",
       "      <td>1152.1436</td>\n",
       "      <td>2.207469e+03</td>\n",
       "      <td>670.57306</td>\n",
       "      <td>0.000</td>\n",
       "      <td>1.329890e+03</td>\n",
       "    </tr>\n",
       "    <tr>\n",
       "      <th>13421</th>\n",
       "      <td>10828.464</td>\n",
       "      <td>4099.6807</td>\n",
       "      <td>2692.4673</td>\n",
       "      <td>1097.2936</td>\n",
       "      <td>12348.6960</td>\n",
       "      <td>1141.3729</td>\n",
       "      <td>20446.1560</td>\n",
       "      <td>1881.1120</td>\n",
       "      <td>2858.2593</td>\n",
       "      <td>14315.566</td>\n",
       "      <td>...</td>\n",
       "      <td>8368.1380</td>\n",
       "      <td>876.7628</td>\n",
       "      <td>0.00000</td>\n",
       "      <td>2079.8186</td>\n",
       "      <td>1786.1932</td>\n",
       "      <td>0.0000</td>\n",
       "      <td>7.641315e+03</td>\n",
       "      <td>0.00000</td>\n",
       "      <td>0.000</td>\n",
       "      <td>0.000000e+00</td>\n",
       "    </tr>\n",
       "    <tr>\n",
       "      <th>...</th>\n",
       "      <td>...</td>\n",
       "      <td>...</td>\n",
       "      <td>...</td>\n",
       "      <td>...</td>\n",
       "      <td>...</td>\n",
       "      <td>...</td>\n",
       "      <td>...</td>\n",
       "      <td>...</td>\n",
       "      <td>...</td>\n",
       "      <td>...</td>\n",
       "      <td>...</td>\n",
       "      <td>...</td>\n",
       "      <td>...</td>\n",
       "      <td>...</td>\n",
       "      <td>...</td>\n",
       "      <td>...</td>\n",
       "      <td>...</td>\n",
       "      <td>...</td>\n",
       "      <td>...</td>\n",
       "      <td>...</td>\n",
       "      <td>...</td>\n",
       "    </tr>\n",
       "    <tr>\n",
       "      <th>18812</th>\n",
       "      <td>3826.707</td>\n",
       "      <td>5605.1895</td>\n",
       "      <td>30565.1740</td>\n",
       "      <td>8321.4390</td>\n",
       "      <td>0.0000</td>\n",
       "      <td>8256.4520</td>\n",
       "      <td>2412.3643</td>\n",
       "      <td>23704.9670</td>\n",
       "      <td>2368.7214</td>\n",
       "      <td>0.000</td>\n",
       "      <td>...</td>\n",
       "      <td>0.0000</td>\n",
       "      <td>0.0000</td>\n",
       "      <td>0.00000</td>\n",
       "      <td>0.0000</td>\n",
       "      <td>0.0000</td>\n",
       "      <td>26299.3340</td>\n",
       "      <td>0.000000e+00</td>\n",
       "      <td>0.00000</td>\n",
       "      <td>0.000</td>\n",
       "      <td>0.000000e+00</td>\n",
       "    </tr>\n",
       "    <tr>\n",
       "      <th>29547</th>\n",
       "      <td>0.000</td>\n",
       "      <td>0.0000</td>\n",
       "      <td>0.0000</td>\n",
       "      <td>0.0000</td>\n",
       "      <td>0.0000</td>\n",
       "      <td>0.0000</td>\n",
       "      <td>0.0000</td>\n",
       "      <td>0.0000</td>\n",
       "      <td>0.0000</td>\n",
       "      <td>0.000</td>\n",
       "      <td>...</td>\n",
       "      <td>0.0000</td>\n",
       "      <td>431625.7200</td>\n",
       "      <td>0.00000</td>\n",
       "      <td>0.0000</td>\n",
       "      <td>0.0000</td>\n",
       "      <td>0.0000</td>\n",
       "      <td>2.448736e+06</td>\n",
       "      <td>79338.81000</td>\n",
       "      <td>910874.100</td>\n",
       "      <td>3.676123e+04</td>\n",
       "    </tr>\n",
       "    <tr>\n",
       "      <th>23333</th>\n",
       "      <td>0.000</td>\n",
       "      <td>0.0000</td>\n",
       "      <td>22715.9940</td>\n",
       "      <td>12215.7230</td>\n",
       "      <td>47103.1680</td>\n",
       "      <td>0.0000</td>\n",
       "      <td>0.0000</td>\n",
       "      <td>23717.8200</td>\n",
       "      <td>5656.6190</td>\n",
       "      <td>62194.957</td>\n",
       "      <td>...</td>\n",
       "      <td>0.0000</td>\n",
       "      <td>0.0000</td>\n",
       "      <td>0.00000</td>\n",
       "      <td>0.0000</td>\n",
       "      <td>0.0000</td>\n",
       "      <td>0.0000</td>\n",
       "      <td>0.000000e+00</td>\n",
       "      <td>0.00000</td>\n",
       "      <td>0.000</td>\n",
       "      <td>0.000000e+00</td>\n",
       "    </tr>\n",
       "    <tr>\n",
       "      <th>23280</th>\n",
       "      <td>10399.499</td>\n",
       "      <td>13406.0010</td>\n",
       "      <td>0.0000</td>\n",
       "      <td>0.0000</td>\n",
       "      <td>7659.5483</td>\n",
       "      <td>3781.2300</td>\n",
       "      <td>40532.8670</td>\n",
       "      <td>5505.7790</td>\n",
       "      <td>0.0000</td>\n",
       "      <td>32739.668</td>\n",
       "      <td>...</td>\n",
       "      <td>73844.9450</td>\n",
       "      <td>0.0000</td>\n",
       "      <td>4576.55270</td>\n",
       "      <td>31810.0900</td>\n",
       "      <td>66816.9840</td>\n",
       "      <td>2603.8298</td>\n",
       "      <td>5.438043e+04</td>\n",
       "      <td>18571.71500</td>\n",
       "      <td>41671.227</td>\n",
       "      <td>2.524236e+04</td>\n",
       "    </tr>\n",
       "    <tr>\n",
       "      <th>24434</th>\n",
       "      <td>0.000</td>\n",
       "      <td>0.0000</td>\n",
       "      <td>0.0000</td>\n",
       "      <td>0.0000</td>\n",
       "      <td>0.0000</td>\n",
       "      <td>0.0000</td>\n",
       "      <td>0.0000</td>\n",
       "      <td>0.0000</td>\n",
       "      <td>0.0000</td>\n",
       "      <td>0.000</td>\n",
       "      <td>...</td>\n",
       "      <td>0.0000</td>\n",
       "      <td>0.0000</td>\n",
       "      <td>0.00000</td>\n",
       "      <td>0.0000</td>\n",
       "      <td>0.0000</td>\n",
       "      <td>0.0000</td>\n",
       "      <td>0.000000e+00</td>\n",
       "      <td>0.00000</td>\n",
       "      <td>0.000</td>\n",
       "      <td>0.000000e+00</td>\n",
       "    </tr>\n",
       "  </tbody>\n",
       "</table>\n",
       "<p>8353 rows × 177 columns</p>\n",
       "</div>"
      ],
      "text/plain": [
       "         A15_85_01    A15_85_05   A15_85_10   A15_85_15    A15_85_20  \\\n",
       "Feature                                                                \n",
       "2237     22812.143   61161.0740  90249.4800  41827.5980   45955.8050   \n",
       "1680     61726.860  126151.0800  58835.2900  95104.8400   51764.5400   \n",
       "2970     72191.920   99769.2340      0.0000      0.0000  179541.9800   \n",
       "6894     18688.754    9300.7320   2669.1455      0.0000   14387.2730   \n",
       "13421    10828.464    4099.6807   2692.4673   1097.2936   12348.6960   \n",
       "...            ...          ...         ...         ...          ...   \n",
       "18812     3826.707    5605.1895  30565.1740   8321.4390       0.0000   \n",
       "29547        0.000       0.0000      0.0000      0.0000       0.0000   \n",
       "23333        0.000       0.0000  22715.9940  12215.7230   47103.1680   \n",
       "23280    10399.499   13406.0010      0.0000      0.0000    7659.5483   \n",
       "24434        0.000       0.0000      0.0000      0.0000       0.0000   \n",
       "\n",
       "           A15_86_01    A15_86_05   A15_86_10    A15_86_15   A15_86_20  ...  \\\n",
       "Feature                                                                 ...   \n",
       "2237     146017.8600   54862.4900  87228.1600   21293.7070  129794.380  ...   \n",
       "1680     148775.2500  135138.7200  43956.0470  132286.1900   52236.543  ...   \n",
       "2970          0.0000  155414.6400   2019.9541  176011.6700  394263.600  ...   \n",
       "6894        963.2151   21551.7640  11849.3400    4417.8040   39862.734  ...   \n",
       "13421      1141.3729   20446.1560   1881.1120    2858.2593   14315.566  ...   \n",
       "...              ...          ...         ...          ...         ...  ...   \n",
       "18812      8256.4520    2412.3643  23704.9670    2368.7214       0.000  ...   \n",
       "29547         0.0000       0.0000      0.0000       0.0000       0.000  ...   \n",
       "23333         0.0000       0.0000  23717.8200    5656.6190   62194.957  ...   \n",
       "23280      3781.2300   40532.8670   5505.7790       0.0000   32739.668  ...   \n",
       "24434         0.0000       0.0000      0.0000       0.0000       0.000  ...   \n",
       "\n",
       "          A23_119_01   A23_119_05    A23_119_10   A23_119_15   A23_119_20  \\\n",
       "Feature                                                                     \n",
       "2237      18974.4790   33770.9100    2917.97240   70166.5860   31857.4020   \n",
       "1680     258665.7300  883552.7000  581761.44000  583094.2500  701959.2500   \n",
       "2970     352718.6600       0.0000       0.00000       0.0000       0.0000   \n",
       "6894       8038.1797    1870.0122     543.98285    1157.9121    4496.9287   \n",
       "13421      8368.1380     876.7628       0.00000    2079.8186    1786.1932   \n",
       "...              ...          ...           ...          ...          ...   \n",
       "18812         0.0000       0.0000       0.00000       0.0000       0.0000   \n",
       "29547         0.0000  431625.7200       0.00000       0.0000       0.0000   \n",
       "23333         0.0000       0.0000       0.00000       0.0000       0.0000   \n",
       "23280     73844.9450       0.0000    4576.55270   31810.0900   66816.9840   \n",
       "24434         0.0000       0.0000       0.00000       0.0000       0.0000   \n",
       "\n",
       "          A23_120_01    A23_120_05    A23_120_10  A23_120_15    A23_120_20  \n",
       "Feature                                                                     \n",
       "2237      35618.4180  9.932277e+04    3873.08900   17688.664  1.382372e+04  \n",
       "1680     106503.9700  1.191515e+06  654667.06000  738894.560  1.101843e+06  \n",
       "2970          0.0000  0.000000e+00       0.00000       0.000  0.000000e+00  \n",
       "6894       1152.1436  2.207469e+03     670.57306       0.000  1.329890e+03  \n",
       "13421         0.0000  7.641315e+03       0.00000       0.000  0.000000e+00  \n",
       "...              ...           ...           ...         ...           ...  \n",
       "18812     26299.3340  0.000000e+00       0.00000       0.000  0.000000e+00  \n",
       "29547         0.0000  2.448736e+06   79338.81000  910874.100  3.676123e+04  \n",
       "23333         0.0000  0.000000e+00       0.00000       0.000  0.000000e+00  \n",
       "23280      2603.8298  5.438043e+04   18571.71500   41671.227  2.524236e+04  \n",
       "24434         0.0000  0.000000e+00       0.00000       0.000  0.000000e+00  \n",
       "\n",
       "[8353 rows x 177 columns]"
      ]
     },
     "execution_count": 6,
     "metadata": {},
     "output_type": "execute_result"
    }
   ],
   "source": [
    "rawfile = pd.read_csv('../data/Metabolome/sz_newtable_metabolomics_jointRPCA.csv', index_col=0)\n",
    "rawfile"
   ]
  },
  {
   "cell_type": "code",
   "execution_count": 8,
   "metadata": {},
   "outputs": [
    {
     "data": {
      "text/html": [
       "<div>\n",
       "<style scoped>\n",
       "    .dataframe tbody tr th:only-of-type {\n",
       "        vertical-align: middle;\n",
       "    }\n",
       "\n",
       "    .dataframe tbody tr th {\n",
       "        vertical-align: top;\n",
       "    }\n",
       "\n",
       "    .dataframe thead th {\n",
       "        text-align: right;\n",
       "    }\n",
       "</style>\n",
       "<table border=\"1\" class=\"dataframe\">\n",
       "  <thead>\n",
       "    <tr style=\"text-align: right;\">\n",
       "      <th></th>\n",
       "      <th>A15_85_01</th>\n",
       "      <th>A15_85_05</th>\n",
       "      <th>A15_85_10</th>\n",
       "      <th>A15_85_15</th>\n",
       "      <th>A15_85_20</th>\n",
       "      <th>A15_86_01</th>\n",
       "      <th>A15_86_05</th>\n",
       "      <th>A15_86_10</th>\n",
       "      <th>A15_86_15</th>\n",
       "      <th>A15_86_20</th>\n",
       "      <th>...</th>\n",
       "      <th>A23_119_01</th>\n",
       "      <th>A23_119_05</th>\n",
       "      <th>A23_119_10</th>\n",
       "      <th>A23_119_15</th>\n",
       "      <th>A23_119_20</th>\n",
       "      <th>A23_120_01</th>\n",
       "      <th>A23_120_05</th>\n",
       "      <th>A23_120_10</th>\n",
       "      <th>A23_120_15</th>\n",
       "      <th>A23_120_20</th>\n",
       "    </tr>\n",
       "    <tr>\n",
       "      <th>#OTU ID</th>\n",
       "      <th></th>\n",
       "      <th></th>\n",
       "      <th></th>\n",
       "      <th></th>\n",
       "      <th></th>\n",
       "      <th></th>\n",
       "      <th></th>\n",
       "      <th></th>\n",
       "      <th></th>\n",
       "      <th></th>\n",
       "      <th></th>\n",
       "      <th></th>\n",
       "      <th></th>\n",
       "      <th></th>\n",
       "      <th></th>\n",
       "      <th></th>\n",
       "      <th></th>\n",
       "      <th></th>\n",
       "      <th></th>\n",
       "      <th></th>\n",
       "      <th></th>\n",
       "    </tr>\n",
       "  </thead>\n",
       "  <tbody>\n",
       "    <tr>\n",
       "      <th>2237</th>\n",
       "      <td>22812.143</td>\n",
       "      <td>61161.0740</td>\n",
       "      <td>90249.4800</td>\n",
       "      <td>41827.5980</td>\n",
       "      <td>45955.8050</td>\n",
       "      <td>146017.8600</td>\n",
       "      <td>54862.4900</td>\n",
       "      <td>87228.1600</td>\n",
       "      <td>21293.7070</td>\n",
       "      <td>129794.380</td>\n",
       "      <td>...</td>\n",
       "      <td>18974.4790</td>\n",
       "      <td>33770.9100</td>\n",
       "      <td>2917.97240</td>\n",
       "      <td>70166.5860</td>\n",
       "      <td>31857.4020</td>\n",
       "      <td>35618.4180</td>\n",
       "      <td>9.932277e+04</td>\n",
       "      <td>3873.08900</td>\n",
       "      <td>17688.664</td>\n",
       "      <td>1.382372e+04</td>\n",
       "    </tr>\n",
       "    <tr>\n",
       "      <th>1680</th>\n",
       "      <td>61726.860</td>\n",
       "      <td>126151.0800</td>\n",
       "      <td>58835.2900</td>\n",
       "      <td>95104.8400</td>\n",
       "      <td>51764.5400</td>\n",
       "      <td>148775.2500</td>\n",
       "      <td>135138.7200</td>\n",
       "      <td>43956.0470</td>\n",
       "      <td>132286.1900</td>\n",
       "      <td>52236.543</td>\n",
       "      <td>...</td>\n",
       "      <td>258665.7300</td>\n",
       "      <td>883552.7000</td>\n",
       "      <td>581761.44000</td>\n",
       "      <td>583094.2500</td>\n",
       "      <td>701959.2500</td>\n",
       "      <td>106503.9700</td>\n",
       "      <td>1.191515e+06</td>\n",
       "      <td>654667.06000</td>\n",
       "      <td>738894.560</td>\n",
       "      <td>1.101843e+06</td>\n",
       "    </tr>\n",
       "    <tr>\n",
       "      <th>2970</th>\n",
       "      <td>72191.920</td>\n",
       "      <td>99769.2340</td>\n",
       "      <td>0.0000</td>\n",
       "      <td>0.0000</td>\n",
       "      <td>179541.9800</td>\n",
       "      <td>0.0000</td>\n",
       "      <td>155414.6400</td>\n",
       "      <td>2019.9541</td>\n",
       "      <td>176011.6700</td>\n",
       "      <td>394263.600</td>\n",
       "      <td>...</td>\n",
       "      <td>352718.6600</td>\n",
       "      <td>0.0000</td>\n",
       "      <td>0.00000</td>\n",
       "      <td>0.0000</td>\n",
       "      <td>0.0000</td>\n",
       "      <td>0.0000</td>\n",
       "      <td>0.000000e+00</td>\n",
       "      <td>0.00000</td>\n",
       "      <td>0.000</td>\n",
       "      <td>0.000000e+00</td>\n",
       "    </tr>\n",
       "    <tr>\n",
       "      <th>6894</th>\n",
       "      <td>18688.754</td>\n",
       "      <td>9300.7320</td>\n",
       "      <td>2669.1455</td>\n",
       "      <td>0.0000</td>\n",
       "      <td>14387.2730</td>\n",
       "      <td>963.2151</td>\n",
       "      <td>21551.7640</td>\n",
       "      <td>11849.3400</td>\n",
       "      <td>4417.8040</td>\n",
       "      <td>39862.734</td>\n",
       "      <td>...</td>\n",
       "      <td>8038.1797</td>\n",
       "      <td>1870.0122</td>\n",
       "      <td>543.98285</td>\n",
       "      <td>1157.9121</td>\n",
       "      <td>4496.9287</td>\n",
       "      <td>1152.1436</td>\n",
       "      <td>2.207469e+03</td>\n",
       "      <td>670.57306</td>\n",
       "      <td>0.000</td>\n",
       "      <td>1.329890e+03</td>\n",
       "    </tr>\n",
       "    <tr>\n",
       "      <th>13421</th>\n",
       "      <td>10828.464</td>\n",
       "      <td>4099.6807</td>\n",
       "      <td>2692.4673</td>\n",
       "      <td>1097.2936</td>\n",
       "      <td>12348.6960</td>\n",
       "      <td>1141.3729</td>\n",
       "      <td>20446.1560</td>\n",
       "      <td>1881.1120</td>\n",
       "      <td>2858.2593</td>\n",
       "      <td>14315.566</td>\n",
       "      <td>...</td>\n",
       "      <td>8368.1380</td>\n",
       "      <td>876.7628</td>\n",
       "      <td>0.00000</td>\n",
       "      <td>2079.8186</td>\n",
       "      <td>1786.1932</td>\n",
       "      <td>0.0000</td>\n",
       "      <td>7.641315e+03</td>\n",
       "      <td>0.00000</td>\n",
       "      <td>0.000</td>\n",
       "      <td>0.000000e+00</td>\n",
       "    </tr>\n",
       "    <tr>\n",
       "      <th>...</th>\n",
       "      <td>...</td>\n",
       "      <td>...</td>\n",
       "      <td>...</td>\n",
       "      <td>...</td>\n",
       "      <td>...</td>\n",
       "      <td>...</td>\n",
       "      <td>...</td>\n",
       "      <td>...</td>\n",
       "      <td>...</td>\n",
       "      <td>...</td>\n",
       "      <td>...</td>\n",
       "      <td>...</td>\n",
       "      <td>...</td>\n",
       "      <td>...</td>\n",
       "      <td>...</td>\n",
       "      <td>...</td>\n",
       "      <td>...</td>\n",
       "      <td>...</td>\n",
       "      <td>...</td>\n",
       "      <td>...</td>\n",
       "      <td>...</td>\n",
       "    </tr>\n",
       "    <tr>\n",
       "      <th>18812</th>\n",
       "      <td>3826.707</td>\n",
       "      <td>5605.1895</td>\n",
       "      <td>30565.1740</td>\n",
       "      <td>8321.4390</td>\n",
       "      <td>0.0000</td>\n",
       "      <td>8256.4520</td>\n",
       "      <td>2412.3643</td>\n",
       "      <td>23704.9670</td>\n",
       "      <td>2368.7214</td>\n",
       "      <td>0.000</td>\n",
       "      <td>...</td>\n",
       "      <td>0.0000</td>\n",
       "      <td>0.0000</td>\n",
       "      <td>0.00000</td>\n",
       "      <td>0.0000</td>\n",
       "      <td>0.0000</td>\n",
       "      <td>26299.3340</td>\n",
       "      <td>0.000000e+00</td>\n",
       "      <td>0.00000</td>\n",
       "      <td>0.000</td>\n",
       "      <td>0.000000e+00</td>\n",
       "    </tr>\n",
       "    <tr>\n",
       "      <th>29547</th>\n",
       "      <td>0.000</td>\n",
       "      <td>0.0000</td>\n",
       "      <td>0.0000</td>\n",
       "      <td>0.0000</td>\n",
       "      <td>0.0000</td>\n",
       "      <td>0.0000</td>\n",
       "      <td>0.0000</td>\n",
       "      <td>0.0000</td>\n",
       "      <td>0.0000</td>\n",
       "      <td>0.000</td>\n",
       "      <td>...</td>\n",
       "      <td>0.0000</td>\n",
       "      <td>431625.7200</td>\n",
       "      <td>0.00000</td>\n",
       "      <td>0.0000</td>\n",
       "      <td>0.0000</td>\n",
       "      <td>0.0000</td>\n",
       "      <td>2.448736e+06</td>\n",
       "      <td>79338.81000</td>\n",
       "      <td>910874.100</td>\n",
       "      <td>3.676123e+04</td>\n",
       "    </tr>\n",
       "    <tr>\n",
       "      <th>23333</th>\n",
       "      <td>0.000</td>\n",
       "      <td>0.0000</td>\n",
       "      <td>22715.9940</td>\n",
       "      <td>12215.7230</td>\n",
       "      <td>47103.1680</td>\n",
       "      <td>0.0000</td>\n",
       "      <td>0.0000</td>\n",
       "      <td>23717.8200</td>\n",
       "      <td>5656.6190</td>\n",
       "      <td>62194.957</td>\n",
       "      <td>...</td>\n",
       "      <td>0.0000</td>\n",
       "      <td>0.0000</td>\n",
       "      <td>0.00000</td>\n",
       "      <td>0.0000</td>\n",
       "      <td>0.0000</td>\n",
       "      <td>0.0000</td>\n",
       "      <td>0.000000e+00</td>\n",
       "      <td>0.00000</td>\n",
       "      <td>0.000</td>\n",
       "      <td>0.000000e+00</td>\n",
       "    </tr>\n",
       "    <tr>\n",
       "      <th>23280</th>\n",
       "      <td>10399.499</td>\n",
       "      <td>13406.0010</td>\n",
       "      <td>0.0000</td>\n",
       "      <td>0.0000</td>\n",
       "      <td>7659.5483</td>\n",
       "      <td>3781.2300</td>\n",
       "      <td>40532.8670</td>\n",
       "      <td>5505.7790</td>\n",
       "      <td>0.0000</td>\n",
       "      <td>32739.668</td>\n",
       "      <td>...</td>\n",
       "      <td>73844.9450</td>\n",
       "      <td>0.0000</td>\n",
       "      <td>4576.55270</td>\n",
       "      <td>31810.0900</td>\n",
       "      <td>66816.9840</td>\n",
       "      <td>2603.8298</td>\n",
       "      <td>5.438043e+04</td>\n",
       "      <td>18571.71500</td>\n",
       "      <td>41671.227</td>\n",
       "      <td>2.524236e+04</td>\n",
       "    </tr>\n",
       "    <tr>\n",
       "      <th>24434</th>\n",
       "      <td>0.000</td>\n",
       "      <td>0.0000</td>\n",
       "      <td>0.0000</td>\n",
       "      <td>0.0000</td>\n",
       "      <td>0.0000</td>\n",
       "      <td>0.0000</td>\n",
       "      <td>0.0000</td>\n",
       "      <td>0.0000</td>\n",
       "      <td>0.0000</td>\n",
       "      <td>0.000</td>\n",
       "      <td>...</td>\n",
       "      <td>0.0000</td>\n",
       "      <td>0.0000</td>\n",
       "      <td>0.00000</td>\n",
       "      <td>0.0000</td>\n",
       "      <td>0.0000</td>\n",
       "      <td>0.0000</td>\n",
       "      <td>0.000000e+00</td>\n",
       "      <td>0.00000</td>\n",
       "      <td>0.000</td>\n",
       "      <td>0.000000e+00</td>\n",
       "    </tr>\n",
       "  </tbody>\n",
       "</table>\n",
       "<p>8353 rows × 177 columns</p>\n",
       "</div>"
      ],
      "text/plain": [
       "         A15_85_01    A15_85_05   A15_85_10   A15_85_15    A15_85_20  \\\n",
       "#OTU ID                                                                \n",
       "2237     22812.143   61161.0740  90249.4800  41827.5980   45955.8050   \n",
       "1680     61726.860  126151.0800  58835.2900  95104.8400   51764.5400   \n",
       "2970     72191.920   99769.2340      0.0000      0.0000  179541.9800   \n",
       "6894     18688.754    9300.7320   2669.1455      0.0000   14387.2730   \n",
       "13421    10828.464    4099.6807   2692.4673   1097.2936   12348.6960   \n",
       "...            ...          ...         ...         ...          ...   \n",
       "18812     3826.707    5605.1895  30565.1740   8321.4390       0.0000   \n",
       "29547        0.000       0.0000      0.0000      0.0000       0.0000   \n",
       "23333        0.000       0.0000  22715.9940  12215.7230   47103.1680   \n",
       "23280    10399.499   13406.0010      0.0000      0.0000    7659.5483   \n",
       "24434        0.000       0.0000      0.0000      0.0000       0.0000   \n",
       "\n",
       "           A15_86_01    A15_86_05   A15_86_10    A15_86_15   A15_86_20  ...  \\\n",
       "#OTU ID                                                                 ...   \n",
       "2237     146017.8600   54862.4900  87228.1600   21293.7070  129794.380  ...   \n",
       "1680     148775.2500  135138.7200  43956.0470  132286.1900   52236.543  ...   \n",
       "2970          0.0000  155414.6400   2019.9541  176011.6700  394263.600  ...   \n",
       "6894        963.2151   21551.7640  11849.3400    4417.8040   39862.734  ...   \n",
       "13421      1141.3729   20446.1560   1881.1120    2858.2593   14315.566  ...   \n",
       "...              ...          ...         ...          ...         ...  ...   \n",
       "18812      8256.4520    2412.3643  23704.9670    2368.7214       0.000  ...   \n",
       "29547         0.0000       0.0000      0.0000       0.0000       0.000  ...   \n",
       "23333         0.0000       0.0000  23717.8200    5656.6190   62194.957  ...   \n",
       "23280      3781.2300   40532.8670   5505.7790       0.0000   32739.668  ...   \n",
       "24434         0.0000       0.0000      0.0000       0.0000       0.000  ...   \n",
       "\n",
       "          A23_119_01   A23_119_05    A23_119_10   A23_119_15   A23_119_20  \\\n",
       "#OTU ID                                                                     \n",
       "2237      18974.4790   33770.9100    2917.97240   70166.5860   31857.4020   \n",
       "1680     258665.7300  883552.7000  581761.44000  583094.2500  701959.2500   \n",
       "2970     352718.6600       0.0000       0.00000       0.0000       0.0000   \n",
       "6894       8038.1797    1870.0122     543.98285    1157.9121    4496.9287   \n",
       "13421      8368.1380     876.7628       0.00000    2079.8186    1786.1932   \n",
       "...              ...          ...           ...          ...          ...   \n",
       "18812         0.0000       0.0000       0.00000       0.0000       0.0000   \n",
       "29547         0.0000  431625.7200       0.00000       0.0000       0.0000   \n",
       "23333         0.0000       0.0000       0.00000       0.0000       0.0000   \n",
       "23280     73844.9450       0.0000    4576.55270   31810.0900   66816.9840   \n",
       "24434         0.0000       0.0000       0.00000       0.0000       0.0000   \n",
       "\n",
       "          A23_120_01    A23_120_05    A23_120_10  A23_120_15    A23_120_20  \n",
       "#OTU ID                                                                     \n",
       "2237      35618.4180  9.932277e+04    3873.08900   17688.664  1.382372e+04  \n",
       "1680     106503.9700  1.191515e+06  654667.06000  738894.560  1.101843e+06  \n",
       "2970          0.0000  0.000000e+00       0.00000       0.000  0.000000e+00  \n",
       "6894       1152.1436  2.207469e+03     670.57306       0.000  1.329890e+03  \n",
       "13421         0.0000  7.641315e+03       0.00000       0.000  0.000000e+00  \n",
       "...              ...           ...           ...         ...           ...  \n",
       "18812     26299.3340  0.000000e+00       0.00000       0.000  0.000000e+00  \n",
       "29547         0.0000  2.448736e+06   79338.81000  910874.100  3.676123e+04  \n",
       "23333         0.0000  0.000000e+00       0.00000       0.000  0.000000e+00  \n",
       "23280      2603.8298  5.438043e+04   18571.71500   41671.227  2.524236e+04  \n",
       "24434         0.0000  0.000000e+00       0.00000       0.000  0.000000e+00  \n",
       "\n",
       "[8353 rows x 177 columns]"
      ]
     },
     "execution_count": 8,
     "metadata": {},
     "output_type": "execute_result"
    }
   ],
   "source": [
    "rawfile.columns = rawfile.columns.str.strip(\".mzXML Peak area\")\n",
    "rawfile.index.names = ['#OTU ID']\n",
    "rawfile"
   ]
  },
  {
   "cell_type": "code",
   "execution_count": 9,
   "metadata": {},
   "outputs": [],
   "source": [
    "rawfile.to_csv('../data/Metabolome/longIHC_biomformat.tsv', sep='\\t')"
   ]
  },
  {
   "cell_type": "code",
   "execution_count": 10,
   "metadata": {},
   "outputs": [],
   "source": [
    "!biom convert -i ../data/Metabolome/longIHC_biomformat.tsv -o ../data/Metabolome/longIHC_rawcounts.biom --table-type=\"OTU table\" --to-hdf5"
   ]
  },
  {
   "cell_type": "code",
   "execution_count": 11,
   "metadata": {},
   "outputs": [
    {
     "name": "stdout",
     "output_type": "stream",
     "text": [
      "\u001b[32mImported ../data/Metabolome/longIHC_rawcounts.biom as BIOMV210Format to ../data/Metabolome/unannotated_rawcounts.qza\u001b[0m\n",
      "\u001b[0m"
     ]
    }
   ],
   "source": [
    "!qiime tools import \\\n",
    "    --input-path ../data/Metabolome/longIHC_rawcounts.biom \\\n",
    "    --type 'FeatureTable[Frequency]' \\\n",
    "    --input-format BIOMV210Format \\\n",
    "    --output-path ../data/Metabolome/unannotated_rawcounts.qza"
   ]
  },
  {
   "cell_type": "code",
   "execution_count": 12,
   "metadata": {},
   "outputs": [
    {
     "name": "stdout",
     "output_type": "stream",
     "text": [
      "\u001b[32mSaved FeatureTable[Frequency] to: ../data/Metabolome/unannotated_rawcounts_HFD_noblanks.qza\u001b[0m\r\n",
      "\u001b[0m"
     ]
    }
   ],
   "source": [
    "!qiime feature-table filter-samples \\\n",
    "    --i-table ../data/Metabolome/unannotated_rawcounts.qza \\\n",
    "    --m-metadata-file ../data/Metabolome/longIHC_metab_metadata_cleaned.txt \\\n",
    "    --p-where \"genotype='ApoE KO' AND diet='HFD'\" \\\n",
    "    --o-filtered-table ../data/Metabolome/unannotated_rawcounts_HFD_noblanks.qza"
   ]
  },
  {
   "cell_type": "code",
   "execution_count": 13,
   "metadata": {},
   "outputs": [
    {
     "name": "stdout",
     "output_type": "stream",
     "text": [
      "\u001b[32mSaved FeatureTable[Frequency] to: ../data/Metabolome/unannotated_rawcounts_HFD_noblanks_nodeadmice.qza\u001b[0m\r\n",
      "\u001b[0m"
     ]
    }
   ],
   "source": [
    "!qiime feature-table filter-samples \\\n",
    "    --i-table ../data/Metabolome/unannotated_rawcounts_HFD_noblanks.qza \\\n",
    "    --m-metadata-file ../data/Metabolome/longIHC_metab_metadata_cleaned.txt \\\n",
    "    --p-where \"host_weight='Not provided'\" \\\n",
    "    --p-exclude-ids \\\n",
    "    --o-filtered-table ../data/Metabolome/unannotated_rawcounts_HFD_noblanks_nodeadmice.qza\n",
    "#be rid of the two samples where the animal died, not sure what was processed if the animal was dead..."
   ]
  },
  {
   "cell_type": "code",
   "execution_count": 14,
   "metadata": {},
   "outputs": [
    {
     "name": "stdout",
     "output_type": "stream",
     "text": [
      "\u001b[32mSaved Visualization to: ../data/Metabolome/unannotated_rawcounts_HFD_noblanks_nodeadmice.qzv\u001b[0m\r\n",
      "\u001b[0m"
     ]
    }
   ],
   "source": [
    "!qiime feature-table summarize \\\n",
    "    --i-table ../data/Metabolome/unannotated_rawcounts_HFD_noblanks_nodeadmice.qza \\\n",
    "    --m-sample-metadata-file ../data/Metabolome/longIHC_metab_metadata_cleaned.txt \\\n",
    "    --o-visualization ../data/Metabolome/unannotated_rawcounts_HFD_noblanks_nodeadmice.qzv"
   ]
  },
  {
   "cell_type": "code",
   "execution_count": 15,
   "metadata": {},
   "outputs": [
    {
     "name": "stdout",
     "output_type": "stream",
     "text": [
      "\u001b[32mSaved FeatureTable[Frequency] to: ../data/Metabolome/unannotated_rawcounts_Air_noblanks.qza\u001b[0m\r\n",
      "\u001b[0m"
     ]
    }
   ],
   "source": [
    "!qiime feature-table filter-samples \\\n",
    "    --i-table ../data/Metabolome/unannotated_rawcounts.qza \\\n",
    "    --m-metadata-file ../data/Metabolome/longIHC_metab_metadata_cleaned.txt \\\n",
    "    --p-where \"genotype='ApoE KO' AND exposure_type='Air'\" \\\n",
    "    --o-filtered-table ../data/Metabolome/unannotated_rawcounts_Air_noblanks.qza"
   ]
  },
  {
   "cell_type": "code",
   "execution_count": 16,
   "metadata": {},
   "outputs": [
    {
     "name": "stdout",
     "output_type": "stream",
     "text": [
      "\u001b[32mSaved FeatureTable[Frequency] to: ../data/Metabolome/unannotated_rawcounts_Air_noblanks_nodeadmice.qza\u001b[0m\r\n",
      "\u001b[0m"
     ]
    }
   ],
   "source": [
    "!qiime feature-table filter-samples \\\n",
    "    --i-table ../data/Metabolome/unannotated_rawcounts_Air_noblanks.qza \\\n",
    "    --m-metadata-file ../data/Metabolome/longIHC_metab_metadata_cleaned.txt \\\n",
    "    --p-where \"host_weight='Not provided'\" \\\n",
    "    --p-exclude-ids \\\n",
    "    --o-filtered-table ../data/Metabolome/unannotated_rawcounts_Air_noblanks_nodeadmice.qza\n",
    "#be rid of the two samples where the animal died, not sure what was processed if the animal was dead..."
   ]
  },
  {
   "cell_type": "markdown",
   "metadata": {},
   "source": [
    "# Canberra"
   ]
  },
  {
   "cell_type": "code",
   "execution_count": 11,
   "metadata": {},
   "outputs": [
    {
     "name": "stdout",
     "output_type": "stream",
     "text": [
      "\u001b[32mSaved DistanceMatrix to: ../data/Metabolome/unannotated_rawcounts_canberra_HFD_noblanks__nodeadmice_dm.qza\u001b[0m\r\n",
      "\u001b[0m"
     ]
    }
   ],
   "source": [
    "!qiime diversity beta \\\n",
    "    --i-table ../data/Metabolome/unannotated_rawcounts_HFD_noblanks_nodeadmice.qza \\\n",
    "    --p-metric canberra \\\n",
    "    --o-distance-matrix ../data/Metabolome/unannotated_rawcounts_canberra_HFD_noblanks__nodeadmice_dm.qza"
   ]
  },
  {
   "cell_type": "code",
   "execution_count": 13,
   "metadata": {},
   "outputs": [
    {
     "name": "stdout",
     "output_type": "stream",
     "text": [
      "\u001b[32mSaved PCoAResults to: ../data/Metabolome/unannotated_rawcounts_canberra_HFD_noblanks_nodeadmice_pcoa.qza\u001b[0m\r\n",
      "\u001b[0m"
     ]
    }
   ],
   "source": [
    "!qiime diversity pcoa \\\n",
    "    --i-distance-matrix ../data/Metabolome/unannotated_rawcounts_canberra_HFD_noblanks__nodeadmice_dm.qza \\\n",
    "    --o-pcoa ../data/Metabolome/unannotated_rawcounts_canberra_HFD_noblanks_nodeadmice_pcoa.qza"
   ]
  },
  {
   "cell_type": "code",
   "execution_count": 14,
   "metadata": {},
   "outputs": [
    {
     "name": "stdout",
     "output_type": "stream",
     "text": [
      "\u001b[32mSaved Visualization to: ../data/Metabolome/canberra_HFD_noblanks_nodeadmice_emperor_time.qzv\u001b[0m\n",
      "\u001b[0m"
     ]
    }
   ],
   "source": [
    "!qiime emperor plot \\\n",
    "  --i-pcoa  ../data/Metabolome/unannotated_rawcounts_canberra_HFD_noblanks_nodeadmice_pcoa.qza \\\n",
    "  --m-metadata-file ../data/Metabolome/longIHC_metab_metadata_cleaned.txt \\\n",
    "  --p-custom-axes host_age \\\n",
    "  --o-visualization ../data/Metabolome/canberra_HFD_noblanks_nodeadmice_emperor_time.qzv \n",
    "#make a beta diversity emperor plot where one axis is time"
   ]
  },
  {
   "cell_type": "code",
   "execution_count": 66,
   "metadata": {},
   "outputs": [
    {
     "name": "stdout",
     "output_type": "stream",
     "text": [
      "\u001b[32mSaved Visualization to: ../data/Metabolome/canberra_HFD_noblanks_nodeadmice_exposure_bsig.qzv\u001b[0m\r\n"
     ]
    }
   ],
   "source": [
    "!qiime diversity beta-group-significance\\\n",
    "  --i-distance-matrix ../data/Metabolome/unannotated_rawcounts_canberra_HFD_noblanks__nodeadmice_dm.qza\\\n",
    "  --m-metadata-file ../data/Metabolome/longIHC_metab_metadata_cleaned.txt\\\n",
    "  --m-metadata-column exposure_type\\\n",
    "  --p-method permanova\\\n",
    "  --p-pairwise\\\n",
    "  --o-visualization ../data/Metabolome/canberra_HFD_noblanks_nodeadmice_exposure_bsig.qzv"
   ]
  },
  {
   "cell_type": "markdown",
   "metadata": {},
   "source": [
    "# BrayCurtis"
   ]
  },
  {
   "cell_type": "code",
   "execution_count": 15,
   "metadata": {},
   "outputs": [
    {
     "name": "stdout",
     "output_type": "stream",
     "text": [
      "\u001b[32mSaved DistanceMatrix to: ../data/Metabolome/unannotated_rawcounts_braycurtis_HFD_noblanks__nodeadmice_dm.qza\u001b[0m\r\n",
      "\u001b[0m"
     ]
    }
   ],
   "source": [
    "!qiime diversity beta \\\n",
    "    --i-table ../data/Metabolome/unannotated_rawcounts_HFD_noblanks_nodeadmice.qza \\\n",
    "    --p-metric braycurtis \\\n",
    "    --o-distance-matrix ../data/Metabolome/unannotated_rawcounts_braycurtis_HFD_noblanks__nodeadmice_dm.qza"
   ]
  },
  {
   "cell_type": "code",
   "execution_count": 17,
   "metadata": {},
   "outputs": [
    {
     "name": "stdout",
     "output_type": "stream",
     "text": [
      "\u001b[32mSaved PCoAResults to: ../data/Metabolome/unannotated_rawcounts_braycurtis_HFD_noblanks_nodeadmice_pcoa.qza\u001b[0m\n",
      "\u001b[0m"
     ]
    }
   ],
   "source": [
    "!qiime diversity pcoa \\\n",
    "    --i-distance-matrix ../data/Metabolome/unannotated_rawcounts_braycurtis_HFD_noblanks__nodeadmice_dm.qza \\\n",
    "    --o-pcoa ../data/Metabolome/unannotated_rawcounts_braycurtis_HFD_noblanks_nodeadmice_pcoa.qza"
   ]
  },
  {
   "cell_type": "code",
   "execution_count": 18,
   "metadata": {},
   "outputs": [
    {
     "name": "stdout",
     "output_type": "stream",
     "text": [
      "\u001b[32mSaved Visualization to: ../data/Metabolome/braycurtis_HFD_noblanks_nodeadmice_emperor_time.qzv\u001b[0m\r\n",
      "\u001b[0m"
     ]
    }
   ],
   "source": [
    "!qiime emperor plot \\\n",
    "  --i-pcoa  ../data/Metabolome/unannotated_rawcounts_braycurtis_HFD_noblanks_nodeadmice_pcoa.qza \\\n",
    "  --m-metadata-file ../data/Metabolome/longIHC_metab_metadata_cleaned.txt \\\n",
    "  --p-custom-axes host_age \\\n",
    "  --o-visualization ../data/Metabolome/braycurtis_HFD_noblanks_nodeadmice_emperor_time.qzv \n",
    "#make a beta diversity emperor plot where one axis is time"
   ]
  },
  {
   "cell_type": "code",
   "execution_count": 19,
   "metadata": {},
   "outputs": [
    {
     "name": "stdout",
     "output_type": "stream",
     "text": [
      "\u001b[32mSaved Visualization to: ../data/Metabolome/braycurtis_HFD_noblanks_nodeadmice_exposure_bsig.qzv\u001b[0m\r\n",
      "\u001b[0m"
     ]
    }
   ],
   "source": [
    "!qiime diversity beta-group-significance\\\n",
    "  --i-distance-matrix ../data/Metabolome/unannotated_rawcounts_braycurtis_HFD_noblanks__nodeadmice_dm.qza\\\n",
    "  --m-metadata-file ../data/Metabolome/longIHC_metab_metadata_cleaned.txt\\\n",
    "  --m-metadata-column exposure_type\\\n",
    "  --p-method permanova\\\n",
    "  --p-pairwise\\\n",
    "  --o-visualization ../data/Metabolome/braycurtis_HFD_noblanks_nodeadmice_exposure_bsig.qzv"
   ]
  },
  {
   "cell_type": "markdown",
   "metadata": {},
   "source": [
    "# Jaccard"
   ]
  },
  {
   "cell_type": "code",
   "execution_count": 20,
   "metadata": {},
   "outputs": [
    {
     "name": "stdout",
     "output_type": "stream",
     "text": [
      "\u001b[32mSaved DistanceMatrix to: ../data/Metabolome/unannotated_rawcounts_jaccard_HFD_noblanks__nodeadmice_dm.qza\u001b[0m\r\n",
      "\u001b[0m"
     ]
    }
   ],
   "source": [
    "!qiime diversity beta \\\n",
    "    --i-table ../data/Metabolome/unannotated_rawcounts_HFD_noblanks_nodeadmice.qza \\\n",
    "    --p-metric jaccard \\\n",
    "    --o-distance-matrix ../data/Metabolome/unannotated_rawcounts_jaccard_HFD_noblanks__nodeadmice_dm.qza"
   ]
  },
  {
   "cell_type": "code",
   "execution_count": 22,
   "metadata": {},
   "outputs": [
    {
     "name": "stdout",
     "output_type": "stream",
     "text": [
      "\u001b[32mSaved PCoAResults to: ../data/Metabolome/unannotated_rawcounts_jaccard_HFD_noblanks_nodeadmice_pcoa.qza\u001b[0m\r\n",
      "\u001b[0m"
     ]
    }
   ],
   "source": [
    "!qiime diversity pcoa \\\n",
    "    --i-distance-matrix ../data/Metabolome/unannotated_rawcounts_jaccard_HFD_noblanks__nodeadmice_dm.qza \\\n",
    "    --o-pcoa ../data/Metabolome/unannotated_rawcounts_jaccard_HFD_noblanks_nodeadmice_pcoa.qza"
   ]
  },
  {
   "cell_type": "code",
   "execution_count": 23,
   "metadata": {},
   "outputs": [
    {
     "name": "stdout",
     "output_type": "stream",
     "text": [
      "\u001b[32mSaved Visualization to: ../data/Metabolome/jaccard_HFD_noblanks_nodeadmice_emperor_time.qzv\u001b[0m\n",
      "\u001b[0m"
     ]
    }
   ],
   "source": [
    "!qiime emperor plot \\\n",
    "  --i-pcoa  ../data/Metabolome/unannotated_rawcounts_jaccard_HFD_noblanks_nodeadmice_pcoa.qza \\\n",
    "  --m-metadata-file ../data/Metabolome/longIHC_metab_metadata_cleaned.txt \\\n",
    "  --p-custom-axes host_age \\\n",
    "  --o-visualization ../data/Metabolome/jaccard_HFD_noblanks_nodeadmice_emperor_time.qzv \n",
    "#make a beta diversity emperor plot where one axis is time"
   ]
  },
  {
   "cell_type": "code",
   "execution_count": 24,
   "metadata": {},
   "outputs": [
    {
     "name": "stdout",
     "output_type": "stream",
     "text": [
      "\u001b[32mSaved Visualization to: ../data/Metabolome/jaccard_HFD_noblanks_nodeadmice_exposure_bsig.qzv\u001b[0m\r\n",
      "\u001b[0m"
     ]
    }
   ],
   "source": [
    "!qiime diversity beta-group-significance\\\n",
    "  --i-distance-matrix ../data/Metabolome/unannotated_rawcounts_jaccard_HFD_noblanks__nodeadmice_dm.qza\\\n",
    "  --m-metadata-file ../data/Metabolome/longIHC_metab_metadata_cleaned.txt\\\n",
    "  --m-metadata-column exposure_type\\\n",
    "  --p-method permanova\\\n",
    "  --p-pairwise\\\n",
    "  --o-visualization ../data/Metabolome/jaccard_HFD_noblanks_nodeadmice_exposure_bsig.qzv"
   ]
  },
  {
   "cell_type": "markdown",
   "metadata": {},
   "source": [
    "# Aitchison"
   ]
  },
  {
   "cell_type": "code",
   "execution_count": 25,
   "metadata": {},
   "outputs": [
    {
     "name": "stdout",
     "output_type": "stream",
     "text": [
      "\u001b[32mSaved DistanceMatrix to: ../data/Metabolome/unannotated_rawcounts_aitchison_HFD_noblanks__nodeadmice_dm.qza\u001b[0m\r\n",
      "\u001b[0m"
     ]
    }
   ],
   "source": [
    "!qiime diversity beta \\\n",
    "    --i-table ../data/Metabolome/unannotated_rawcounts_HFD_noblanks_nodeadmice.qza \\\n",
    "    --p-metric aitchison \\\n",
    "    --o-distance-matrix ../data/Metabolome/unannotated_rawcounts_aitchison_HFD_noblanks__nodeadmice_dm.qza"
   ]
  },
  {
   "cell_type": "code",
   "execution_count": 27,
   "metadata": {},
   "outputs": [
    {
     "name": "stdout",
     "output_type": "stream",
     "text": [
      "\u001b[32mSaved PCoAResults to: ../data/Metabolome/unannotated_rawcounts_aitchison_HFD_noblanks_nodeadmice_pcoa.qza\u001b[0m\r\n",
      "\u001b[0m"
     ]
    }
   ],
   "source": [
    "!qiime diversity pcoa \\\n",
    "    --i-distance-matrix ../data/Metabolome/unannotated_rawcounts_aitchison_HFD_noblanks__nodeadmice_dm.qza \\\n",
    "    --o-pcoa ../data/Metabolome/unannotated_rawcounts_aitchison_HFD_noblanks_nodeadmice_pcoa.qza"
   ]
  },
  {
   "cell_type": "code",
   "execution_count": 28,
   "metadata": {},
   "outputs": [
    {
     "name": "stdout",
     "output_type": "stream",
     "text": [
      "\u001b[32mSaved Visualization to: ../data/Metabolome/aitchison_HFD_noblanks_nodeadmice_emperor_time.qzv\u001b[0m\r\n",
      "\u001b[0m"
     ]
    }
   ],
   "source": [
    "!qiime emperor plot \\\n",
    "  --i-pcoa  ../data/Metabolome/unannotated_rawcounts_aitchison_HFD_noblanks_nodeadmice_pcoa.qza \\\n",
    "  --m-metadata-file ../data/Metabolome/longIHC_metab_metadata_cleaned.txt \\\n",
    "  --p-custom-axes host_age \\\n",
    "  --o-visualization ../data/Metabolome/aitchison_HFD_noblanks_nodeadmice_emperor_time.qzv \n",
    "#make a beta diversity emperor plot where one axis is time"
   ]
  },
  {
   "cell_type": "code",
   "execution_count": 29,
   "metadata": {},
   "outputs": [
    {
     "name": "stdout",
     "output_type": "stream",
     "text": [
      "\u001b[32mSaved Visualization to: ../data/Metabolome/aitchison_HFD_noblanks_nodeadmice_exposure_bsig.qzv\u001b[0m\r\n",
      "\u001b[0m"
     ]
    }
   ],
   "source": [
    "!qiime diversity beta-group-significance\\\n",
    "  --i-distance-matrix ../data/Metabolome/unannotated_rawcounts_aitchison_HFD_noblanks__nodeadmice_dm.qza\\\n",
    "  --m-metadata-file ../data/Metabolome/longIHC_metab_metadata_cleaned.txt\\\n",
    "  --m-metadata-column exposure_type\\\n",
    "  --p-method permanova\\\n",
    "  --p-pairwise\\\n",
    "  --o-visualization ../data/Metabolome/aitchison_HFD_noblanks_nodeadmice_exposure_bsig.qzv"
   ]
  },
  {
   "cell_type": "markdown",
   "metadata": {},
   "source": [
    "# reformat for joint-rpca"
   ]
  },
  {
   "cell_type": "code",
   "execution_count": 30,
   "metadata": {},
   "outputs": [
    {
     "data": {
      "text/html": [
       "<div>\n",
       "<style scoped>\n",
       "    .dataframe tbody tr th:only-of-type {\n",
       "        vertical-align: middle;\n",
       "    }\n",
       "\n",
       "    .dataframe tbody tr th {\n",
       "        vertical-align: top;\n",
       "    }\n",
       "\n",
       "    .dataframe thead th {\n",
       "        text-align: right;\n",
       "    }\n",
       "</style>\n",
       "<table border=\"1\" class=\"dataframe\">\n",
       "  <thead>\n",
       "    <tr style=\"text-align: right;\">\n",
       "      <th></th>\n",
       "      <th>A15_85_01</th>\n",
       "      <th>A15_85_05</th>\n",
       "      <th>A15_85_10</th>\n",
       "      <th>A15_85_15</th>\n",
       "      <th>A15_85_20</th>\n",
       "      <th>A15_86_01</th>\n",
       "      <th>A15_86_05</th>\n",
       "      <th>A15_86_10</th>\n",
       "      <th>A15_86_15</th>\n",
       "      <th>A15_86_20</th>\n",
       "      <th>...</th>\n",
       "      <th>A23_119_01</th>\n",
       "      <th>A23_119_05</th>\n",
       "      <th>A23_119_10</th>\n",
       "      <th>A23_119_15</th>\n",
       "      <th>A23_119_20</th>\n",
       "      <th>A23_120_01</th>\n",
       "      <th>A23_120_05</th>\n",
       "      <th>A23_120_10</th>\n",
       "      <th>A23_120_15</th>\n",
       "      <th>A23_120_20</th>\n",
       "    </tr>\n",
       "    <tr>\n",
       "      <th>Feature</th>\n",
       "      <th></th>\n",
       "      <th></th>\n",
       "      <th></th>\n",
       "      <th></th>\n",
       "      <th></th>\n",
       "      <th></th>\n",
       "      <th></th>\n",
       "      <th></th>\n",
       "      <th></th>\n",
       "      <th></th>\n",
       "      <th></th>\n",
       "      <th></th>\n",
       "      <th></th>\n",
       "      <th></th>\n",
       "      <th></th>\n",
       "      <th></th>\n",
       "      <th></th>\n",
       "      <th></th>\n",
       "      <th></th>\n",
       "      <th></th>\n",
       "      <th></th>\n",
       "    </tr>\n",
       "  </thead>\n",
       "  <tbody>\n",
       "    <tr>\n",
       "      <th>2237</th>\n",
       "      <td>22812.143</td>\n",
       "      <td>61161.0740</td>\n",
       "      <td>90249.4800</td>\n",
       "      <td>41827.5980</td>\n",
       "      <td>45955.805</td>\n",
       "      <td>146017.8600</td>\n",
       "      <td>54862.490</td>\n",
       "      <td>87228.1600</td>\n",
       "      <td>21293.7070</td>\n",
       "      <td>129794.380</td>\n",
       "      <td>...</td>\n",
       "      <td>18974.4790</td>\n",
       "      <td>33770.9100</td>\n",
       "      <td>2917.97240</td>\n",
       "      <td>70166.5860</td>\n",
       "      <td>31857.4020</td>\n",
       "      <td>35618.4180</td>\n",
       "      <td>9.932277e+04</td>\n",
       "      <td>3873.08900</td>\n",
       "      <td>17688.664</td>\n",
       "      <td>1.382372e+04</td>\n",
       "    </tr>\n",
       "    <tr>\n",
       "      <th>1680</th>\n",
       "      <td>61726.860</td>\n",
       "      <td>126151.0800</td>\n",
       "      <td>58835.2900</td>\n",
       "      <td>95104.8400</td>\n",
       "      <td>51764.540</td>\n",
       "      <td>148775.2500</td>\n",
       "      <td>135138.720</td>\n",
       "      <td>43956.0470</td>\n",
       "      <td>132286.1900</td>\n",
       "      <td>52236.543</td>\n",
       "      <td>...</td>\n",
       "      <td>258665.7300</td>\n",
       "      <td>883552.7000</td>\n",
       "      <td>581761.44000</td>\n",
       "      <td>583094.2500</td>\n",
       "      <td>701959.2500</td>\n",
       "      <td>106503.9700</td>\n",
       "      <td>1.191515e+06</td>\n",
       "      <td>654667.06000</td>\n",
       "      <td>738894.560</td>\n",
       "      <td>1.101843e+06</td>\n",
       "    </tr>\n",
       "    <tr>\n",
       "      <th>2970</th>\n",
       "      <td>72191.920</td>\n",
       "      <td>99769.2340</td>\n",
       "      <td>0.0000</td>\n",
       "      <td>0.0000</td>\n",
       "      <td>179541.980</td>\n",
       "      <td>0.0000</td>\n",
       "      <td>155414.640</td>\n",
       "      <td>2019.9541</td>\n",
       "      <td>176011.6700</td>\n",
       "      <td>394263.600</td>\n",
       "      <td>...</td>\n",
       "      <td>352718.6600</td>\n",
       "      <td>0.0000</td>\n",
       "      <td>0.00000</td>\n",
       "      <td>0.0000</td>\n",
       "      <td>0.0000</td>\n",
       "      <td>0.0000</td>\n",
       "      <td>0.000000e+00</td>\n",
       "      <td>0.00000</td>\n",
       "      <td>0.000</td>\n",
       "      <td>0.000000e+00</td>\n",
       "    </tr>\n",
       "    <tr>\n",
       "      <th>6894</th>\n",
       "      <td>18688.754</td>\n",
       "      <td>9300.7320</td>\n",
       "      <td>2669.1455</td>\n",
       "      <td>0.0000</td>\n",
       "      <td>14387.273</td>\n",
       "      <td>963.2151</td>\n",
       "      <td>21551.764</td>\n",
       "      <td>11849.3400</td>\n",
       "      <td>4417.8040</td>\n",
       "      <td>39862.734</td>\n",
       "      <td>...</td>\n",
       "      <td>8038.1797</td>\n",
       "      <td>1870.0122</td>\n",
       "      <td>543.98285</td>\n",
       "      <td>1157.9121</td>\n",
       "      <td>4496.9287</td>\n",
       "      <td>1152.1436</td>\n",
       "      <td>2.207469e+03</td>\n",
       "      <td>670.57306</td>\n",
       "      <td>0.000</td>\n",
       "      <td>1.329890e+03</td>\n",
       "    </tr>\n",
       "    <tr>\n",
       "      <th>13421</th>\n",
       "      <td>10828.464</td>\n",
       "      <td>4099.6807</td>\n",
       "      <td>2692.4673</td>\n",
       "      <td>1097.2936</td>\n",
       "      <td>12348.696</td>\n",
       "      <td>1141.3729</td>\n",
       "      <td>20446.156</td>\n",
       "      <td>1881.1120</td>\n",
       "      <td>2858.2593</td>\n",
       "      <td>14315.566</td>\n",
       "      <td>...</td>\n",
       "      <td>8368.1380</td>\n",
       "      <td>876.7628</td>\n",
       "      <td>0.00000</td>\n",
       "      <td>2079.8186</td>\n",
       "      <td>1786.1932</td>\n",
       "      <td>0.0000</td>\n",
       "      <td>7.641315e+03</td>\n",
       "      <td>0.00000</td>\n",
       "      <td>0.000</td>\n",
       "      <td>0.000000e+00</td>\n",
       "    </tr>\n",
       "  </tbody>\n",
       "</table>\n",
       "<p>5 rows × 177 columns</p>\n",
       "</div>"
      ],
      "text/plain": [
       "         A15_85_01    A15_85_05   A15_85_10   A15_85_15   A15_85_20  \\\n",
       "Feature                                                               \n",
       "2237     22812.143   61161.0740  90249.4800  41827.5980   45955.805   \n",
       "1680     61726.860  126151.0800  58835.2900  95104.8400   51764.540   \n",
       "2970     72191.920   99769.2340      0.0000      0.0000  179541.980   \n",
       "6894     18688.754    9300.7320   2669.1455      0.0000   14387.273   \n",
       "13421    10828.464    4099.6807   2692.4673   1097.2936   12348.696   \n",
       "\n",
       "           A15_86_01   A15_86_05   A15_86_10    A15_86_15   A15_86_20  ...  \\\n",
       "Feature                                                                ...   \n",
       "2237     146017.8600   54862.490  87228.1600   21293.7070  129794.380  ...   \n",
       "1680     148775.2500  135138.720  43956.0470  132286.1900   52236.543  ...   \n",
       "2970          0.0000  155414.640   2019.9541  176011.6700  394263.600  ...   \n",
       "6894        963.2151   21551.764  11849.3400    4417.8040   39862.734  ...   \n",
       "13421      1141.3729   20446.156   1881.1120    2858.2593   14315.566  ...   \n",
       "\n",
       "          A23_119_01   A23_119_05    A23_119_10   A23_119_15   A23_119_20  \\\n",
       "Feature                                                                     \n",
       "2237      18974.4790   33770.9100    2917.97240   70166.5860   31857.4020   \n",
       "1680     258665.7300  883552.7000  581761.44000  583094.2500  701959.2500   \n",
       "2970     352718.6600       0.0000       0.00000       0.0000       0.0000   \n",
       "6894       8038.1797    1870.0122     543.98285    1157.9121    4496.9287   \n",
       "13421      8368.1380     876.7628       0.00000    2079.8186    1786.1932   \n",
       "\n",
       "          A23_120_01    A23_120_05    A23_120_10  A23_120_15    A23_120_20  \n",
       "Feature                                                                     \n",
       "2237      35618.4180  9.932277e+04    3873.08900   17688.664  1.382372e+04  \n",
       "1680     106503.9700  1.191515e+06  654667.06000  738894.560  1.101843e+06  \n",
       "2970          0.0000  0.000000e+00       0.00000       0.000  0.000000e+00  \n",
       "6894       1152.1436  2.207469e+03     670.57306       0.000  1.329890e+03  \n",
       "13421         0.0000  7.641315e+03       0.00000       0.000  0.000000e+00  \n",
       "\n",
       "[5 rows x 177 columns]"
      ]
     },
     "execution_count": 30,
     "metadata": {},
     "output_type": "execute_result"
    }
   ],
   "source": [
    "rawfile.head()"
   ]
  },
  {
   "cell_type": "code",
   "execution_count": 33,
   "metadata": {},
   "outputs": [
    {
     "name": "stdout",
     "output_type": "stream",
     "text": [
      "\u001b[32mSaved FeatureTable[Frequency] to: ../data/Metabolome/jointRPCA_rawcounts_HFD_noblanks_nodeadmice.qza\u001b[0m\n",
      "\u001b[0m"
     ]
    }
   ],
   "source": [
    "!qiime feature-table rename-ids \\\n",
    "    --i-table ../data/Metabolome/unannotated_rawcounts_HFD_noblanks_nodeadmice.qza \\\n",
    "    --m-metadata-file ../data/Metabolome/longIHC_joint_metadata.txt \\\n",
    "    --m-metadata-column microbiome_sample_id \\\n",
    "    --o-renamed-table ../data/Metabolome/jointRPCA_rawcounts_HFD_noblanks_nodeadmice.qza"
   ]
  },
  {
   "cell_type": "code",
   "execution_count": 34,
   "metadata": {},
   "outputs": [
    {
     "name": "stdout",
     "output_type": "stream",
     "text": [
      "\u001b[32mSaved FeatureTable[Frequency] to: ../data/Metabolome/jointRPCA_rawcounts_all.qza\u001b[0m\r\n",
      "\u001b[0m"
     ]
    }
   ],
   "source": [
    "!qiime feature-table rename-ids \\\n",
    "    --i-table ../data/Metabolome/unannotated_rawcounts.qza \\\n",
    "    --m-metadata-file ../data/Metabolome/longIHC_joint_metadata.txt \\\n",
    "    --m-metadata-column microbiome_sample_id \\\n",
    "    --o-renamed-table ../data/Metabolome/jointRPCA_rawcounts_all.qza"
   ]
  },
  {
   "cell_type": "code",
   "execution_count": 7,
   "metadata": {},
   "outputs": [
    {
     "name": "stdout",
     "output_type": "stream",
     "text": [
      "\u001b[32mSaved FeatureTable[Frequency] to: ../data/Metabolome/jointRPCA_rawcounts_Air_noblanks_nodeadmice.qza\u001b[0m\r\n",
      "\u001b[0m"
     ]
    }
   ],
   "source": [
    "!qiime feature-table rename-ids \\\n",
    "    --i-table ../data/Metabolome/unannotated_rawcounts_Air_noblanks_nodeadmice.qza \\\n",
    "    --m-metadata-file ../data/Metabolome/longIHC_joint_metadata.txt \\\n",
    "    --m-metadata-column microbiome_sample_id \\\n",
    "    --o-renamed-table ../data/Metabolome/jointRPCA_rawcounts_Air_noblanks_nodeadmice.qza"
   ]
  },
  {
   "cell_type": "code",
   "execution_count": 4,
   "metadata": {},
   "outputs": [
    {
     "name": "stdout",
     "output_type": "stream",
     "text": [
      "\u001b[32mSaved Visualization to: ../data/Metabolome/jointRPCA_rawcounts_HFD_noblanks_nodeadmice.qzv\u001b[0m\r\n",
      "\u001b[0m"
     ]
    }
   ],
   "source": [
    "!qiime feature-table summarize \\\n",
    "    --i-table ../data/Metabolome/jointRPCA_rawcounts_HFD_noblanks_nodeadmice.qza \\\n",
    "    --o-visualization ../data/Metabolome/jointRPCA_rawcounts_HFD_noblanks_nodeadmice.qzv"
   ]
  },
  {
   "cell_type": "markdown",
   "metadata": {},
   "source": [
    "# ANCOM-BC"
   ]
  },
  {
   "cell_type": "code",
   "execution_count": 27,
   "metadata": {},
   "outputs": [
    {
     "name": "stdout",
     "output_type": "stream",
     "text": [
      "\u001b[32mSaved FeatureData[DifferentialAbundance] to: ../data/Metabolome/metab-AIRonly_ancombc_diet_differentials.qza\u001b[0m\n",
      "\u001b[0m"
     ]
    }
   ],
   "source": [
    "!qiime composition ancombc \\\n",
    "  --i-table ../data/Metabolome/jointRPCA_rawcounts_Aironly_filt_noTP1.qza \\\n",
    "  --m-metadata-file ../data/Microbiome/longIHC_metadata_cleaned.txt \\\n",
    "  --p-formula \"diet\" \\\n",
    "  --p-reference-levels diet::'Regular chow' \\\n",
    "  --o-differentials ../data/Metabolome/metab-AIRonly_ancombc_diet_differentials.qza"
   ]
  },
  {
   "cell_type": "code",
   "execution_count": 32,
   "metadata": {},
   "outputs": [
    {
     "name": "stdout",
     "output_type": "stream",
     "text": [
      "\u001b[32mSaved Visualization to: ../data/Metabolome/metab-AIRonly_ancombc_diet_barplot.qzv\u001b[0m\r\n",
      "\u001b[0m"
     ]
    }
   ],
   "source": [
    "!qiime composition da-barplot \\\n",
    "  --i-data ../data/Metabolome/metab-AIRonly_ancombc_diet_differentials.qza \\\n",
    "  --p-significance-threshold 0.0000000001 \\\n",
    "  --p-effect-size-threshold 10 \\\n",
    "  --o-visualization ../data/Metabolome/metab-AIRonly_ancombc_diet_barplot.qzv"
   ]
  },
  {
   "cell_type": "code",
   "execution_count": 30,
   "metadata": {},
   "outputs": [
    {
     "name": "stdout",
     "output_type": "stream",
     "text": [
      "\u001b[32mExported ../data/Metabolome/metab-AIRonly_ancombc_diet_differentials.qza as DataLoafPackageDirFmt to directory ../data/Metabolome/metab-AIRonly_ancombc_diet_differentials\u001b[0m\r\n",
      "\u001b[0m"
     ]
    }
   ],
   "source": [
    "!qiime tools export \\\n",
    "    --input-path ../data/Metabolome/metab-AIRonly_ancombc_diet_differentials.qza \\\n",
    "    --output-path ../data/Metabolome/metab-AIRonly_ancombc_diet_differentials"
   ]
  },
  {
   "cell_type": "code",
   "execution_count": 9,
   "metadata": {},
   "outputs": [
    {
     "name": "stdout",
     "output_type": "stream",
     "text": [
      "\u001b[32mSaved Visualization to: ../data/Metabolome/metab-HFDonly_ancombc_exp_barplot.qzv\u001b[0m\n",
      "\u001b[0m"
     ]
    }
   ],
   "source": [
    "!qiime composition da-barplot \\\n",
    "  --i-data ../data/Metabolome/metab-HFDonly_ancombc_exp_differentials.qza \\\n",
    "  --p-significance-threshold 0.00001 \\\n",
    "  --p-effect-size-threshold 5 \\\n",
    "  --o-visualization ../data/Metabolome/metab-HFDonly_ancombc_exp_barplot.qzv\n",
    "# --p-effect-size-threshold is for log fold change"
   ]
  },
  {
   "cell_type": "code",
   "execution_count": 15,
   "metadata": {},
   "outputs": [
    {
     "name": "stdout",
     "output_type": "stream",
     "text": [
      "\u001b[32mSaved Visualization to: ../data/Metabolome/metab-HFDonly_ancombc_exp_barplot_short.qzv\u001b[0m\n",
      "\u001b[0m"
     ]
    }
   ],
   "source": [
    "!qiime composition da-barplot \\\n",
    "  --i-data ../data/Metabolome/metab-HFDonly_ancombc_exp_differentials.qza \\\n",
    "  --p-significance-threshold 0.0000000001 \\\n",
    "  --p-effect-size-threshold 8 \\\n",
    "  --o-visualization ../data/Metabolome/metab-HFDonly_ancombc_exp_barplot_short.qzv"
   ]
  },
  {
   "cell_type": "markdown",
   "metadata": {},
   "source": [
    "# TEMPTED"
   ]
  },
  {
   "cell_type": "code",
   "execution_count": 1,
   "metadata": {},
   "outputs": [
    {
     "name": "stdout",
     "output_type": "stream",
     "text": [
      "\u001b[32mSaved FeatureTable[Composition] to: ../data/Metabolome/tempted/clr-table.qza\u001b[0m\r\n",
      "\u001b[0m"
     ]
    }
   ],
   "source": [
    "!qiime gemelli clr-transformation \\\n",
    "    --i-table ../data/Metabolome/jointRPCA_rawcounts_all.qza \\\n",
    "    --o-clr-table ../data/Metabolome/tempted/clr-table.qza"
   ]
  },
  {
   "cell_type": "code",
   "execution_count": 2,
   "metadata": {},
   "outputs": [
    {
     "name": "stdout",
     "output_type": "stream",
     "text": [
      "\u001b[32mExported ../data/Metabolome/tempted/clr-table.qza as BIOMV210DirFmt to directory ../data/Metabolome/tempted/clr-table\u001b[0m\r\n",
      "\u001b[0m"
     ]
    }
   ],
   "source": [
    "!qiime tools export \\\n",
    "    --input-path ../data/Metabolome/tempted/clr-table.qza \\\n",
    "    --output-path ../data/Metabolome/tempted/clr-table"
   ]
  },
  {
   "cell_type": "code",
   "execution_count": 2,
   "metadata": {},
   "outputs": [
    {
     "name": "stdout",
     "output_type": "stream",
     "text": [
      "\u001b[32mSaved FeatureTable[Composition] to: ../data/Metabolome/tempted/clr-table_noTP1.qza\u001b[0m\n",
      "\u001b[0m"
     ]
    }
   ],
   "source": [
    "!qiime gemelli clr-transformation \\\n",
    "    --i-table ../data/Metabolome/jointRPCA_rawcounts_all_noTP1_table.qza \\\n",
    "    --o-clr-table ../data/Metabolome/tempted/clr-table_noTP1.qza"
   ]
  },
  {
   "cell_type": "code",
   "execution_count": 6,
   "metadata": {},
   "outputs": [
    {
     "name": "stdout",
     "output_type": "stream",
     "text": [
      "\u001b[33mQIIME is caching your current deployment for improved performance. This may take a few moments and should only happen once per deployment.\u001b[0m\n",
      "\u001b[32mSaved PCoAResults % Properties('biplot') to: ../data/Metabolome/tempted/individual_biplot.qza\u001b[0m\n",
      "\u001b[32mSaved SampleData[SampleTrajectory] to: ../data/Metabolome/tempted/state_loadings.qza\u001b[0m\n",
      "\u001b[32mSaved DistanceMatrix to: ../data/Metabolome/tempted/distance_matrix.qza\u001b[0m\n",
      "\u001b[32mSaved SampleData[SampleTrajectory] to: ../data/Metabolome/tempted/svd_center.qza\u001b[0m\n",
      "\u001b[0m"
     ]
    }
   ],
   "source": [
    "!qiime gemelli tempted-factorize \\\n",
    "    --i-table ../data/Metabolome/tempted/clr-table.qza \\\n",
    "    --m-sample-metadata-file ../data/Microbiome/longIHC_metadata_cleaned.txt \\\n",
    "    --p-individual-id-column 'host_subject_id' \\\n",
    "    --p-state-column 'host_age' \\\n",
    "    --o-individual-biplot ../data/Metabolome/tempted/individual_biplot.qza \\\n",
    "    --o-state-loadings ../data/Metabolome/tempted/state_loadings.qza \\\n",
    "    --o-distance-matrix ../data/Metabolome/tempted/distance_matrix.qza \\\n",
    "    --o-svd-center ../data/Metabolome/tempted/svd_center.qza\n",
    "    #--p-resolution 20 \\"
   ]
  },
  {
   "cell_type": "code",
   "execution_count": 9,
   "metadata": {},
   "outputs": [
    {
     "data": {
      "text/html": [
       "<div>\n",
       "<style scoped>\n",
       "    .dataframe tbody tr th:only-of-type {\n",
       "        vertical-align: middle;\n",
       "    }\n",
       "\n",
       "    .dataframe tbody tr th {\n",
       "        vertical-align: top;\n",
       "    }\n",
       "\n",
       "    .dataframe thead th {\n",
       "        text-align: right;\n",
       "    }\n",
       "</style>\n",
       "<table border=\"1\" class=\"dataframe\">\n",
       "  <thead>\n",
       "    <tr style=\"text-align: right;\">\n",
       "      <th></th>\n",
       "      <th>diet_exp</th>\n",
       "      <th>diet</th>\n",
       "      <th>exposure_type</th>\n",
       "      <th>cage_number</th>\n",
       "    </tr>\n",
       "    <tr>\n",
       "      <th>#SampleID</th>\n",
       "      <th></th>\n",
       "      <th></th>\n",
       "      <th></th>\n",
       "      <th></th>\n",
       "    </tr>\n",
       "  </thead>\n",
       "  <tbody>\n",
       "    <tr>\n",
       "      <th>Mouse 100</th>\n",
       "      <td>HFD_IHC</td>\n",
       "      <td>High Fat Diet</td>\n",
       "      <td>IHC</td>\n",
       "      <td>A18</td>\n",
       "    </tr>\n",
       "    <tr>\n",
       "      <th>Mouse 101</th>\n",
       "      <td>HFD_IHC</td>\n",
       "      <td>High Fat Diet</td>\n",
       "      <td>IHC</td>\n",
       "      <td>A19</td>\n",
       "    </tr>\n",
       "    <tr>\n",
       "      <th>Mouse 102</th>\n",
       "      <td>HFD_IHC</td>\n",
       "      <td>High Fat Diet</td>\n",
       "      <td>IHC</td>\n",
       "      <td>A19</td>\n",
       "    </tr>\n",
       "    <tr>\n",
       "      <th>Mouse 103</th>\n",
       "      <td>HFD_IHC</td>\n",
       "      <td>High Fat Diet</td>\n",
       "      <td>IHC</td>\n",
       "      <td>A19</td>\n",
       "    </tr>\n",
       "    <tr>\n",
       "      <th>Mouse 104</th>\n",
       "      <td>HFD_IHC</td>\n",
       "      <td>High Fat Diet</td>\n",
       "      <td>IHC</td>\n",
       "      <td>A19</td>\n",
       "    </tr>\n",
       "  </tbody>\n",
       "</table>\n",
       "</div>"
      ],
      "text/plain": [
       "          diet_exp           diet exposure_type cage_number\n",
       "#SampleID                                                  \n",
       "Mouse 100  HFD_IHC  High Fat Diet           IHC         A18\n",
       "Mouse 101  HFD_IHC  High Fat Diet           IHC         A19\n",
       "Mouse 102  HFD_IHC  High Fat Diet           IHC         A19\n",
       "Mouse 103  HFD_IHC  High Fat Diet           IHC         A19\n",
       "Mouse 104  HFD_IHC  High Fat Diet           IHC         A19"
      ]
     },
     "execution_count": 9,
     "metadata": {},
     "output_type": "execute_result"
    }
   ],
   "source": [
    "import pandas as pd\n",
    "# first we import the metdata into pandas\n",
    "mf = pd.read_csv('../data/Microbiome/longIHC_metadata_cleaned.txt', sep='\\t',index_col=0)\n",
    "# next we aggregate by subjects (i.e. 'host_subject_id') \n",
    "mf = mf.groupby('host_subject_id').agg({'diet_exp':'first','diet':'first', 'exposure_type':'first', 'cage_number':'first'})\n",
    "# now we save the metadata in QIIME2 format.\n",
    "mf.index.name = '#SampleID'\n",
    "mf.index = mf.index.astype(str)\n",
    "mf.to_csv('../data/Metabolome/tempted/tempted-metadata.tsv', sep='\\t')\n",
    "mf.head()"
   ]
  },
  {
   "cell_type": "code",
   "execution_count": 10,
   "metadata": {},
   "outputs": [
    {
     "name": "stdout",
     "output_type": "stream",
     "text": [
      "\u001b[32mSaved Visualization to: ../data/Metabolome/tempted/metab_subject_biplot.qzv\u001b[0m\r\n",
      "\u001b[0m"
     ]
    }
   ],
   "source": [
    "!qiime emperor biplot \\\n",
    "    --i-biplot ../data/Metabolome/tempted/individual_biplot.qza \\\n",
    "    --m-sample-metadata-file ../data/Metabolome/tempted/tempted-metadata.tsv \\\n",
    "    --p-number-of-features 10\\\n",
    "    --o-visualization ../data/Metabolome/tempted/metab_subject_biplot.qzv\n",
    "#Diet appears to be a stronger influence than exposure type"
   ]
  },
  {
   "cell_type": "code",
   "execution_count": 1,
   "metadata": {},
   "outputs": [
    {
     "name": "stdout",
     "output_type": "stream",
     "text": [
      "\u001b[33mQIIME is caching your current deployment for improved performance. This may take a few moments and should only happen once per deployment.\u001b[0m\n",
      "\u001b[32mSaved Visualization to: ../data/Metabolome/tempted/metab_tempted_qurro.qzv\u001b[0m\n",
      "\u001b[0m"
     ]
    }
   ],
   "source": [
    "!qiime qurro loading-plot \\\n",
    "    --i-table ../data/Metabolome/jointRPCA_rawcounts_all.qza \\\n",
    "    --i-ranks ../data/Metabolome/tempted/individual_biplot.qza \\\n",
    "    --m-sample-metadata-file ../data/Microbiome/longIHC_metadata_cleaned.txt \\\n",
    "    --o-visualization ../data/Metabolome/tempted/metab_tempted_qurro.qzv"
   ]
  },
  {
   "cell_type": "markdown",
   "metadata": {},
   "source": [
    "### HFHC Exposure type only"
   ]
  },
  {
   "cell_type": "code",
   "execution_count": 1,
   "metadata": {},
   "outputs": [
    {
     "name": "stdout",
     "output_type": "stream",
     "text": [
      "\u001b[32mSaved FeatureTable[Composition] to: ../data/Metabolome/tempted/HFD_clr-table.qza\u001b[0m\r\n",
      "\u001b[0m"
     ]
    }
   ],
   "source": [
    "!qiime gemelli clr-transformation \\\n",
    "    --i-table ../data/Metabolome/jointRPCA_rawcounts_HFD_noblanks_nodeadmice.qza \\\n",
    "    --o-clr-table ../data/Metabolome/tempted/HFD_clr-table.qza"
   ]
  },
  {
   "cell_type": "code",
   "execution_count": 2,
   "metadata": {},
   "outputs": [
    {
     "name": "stdout",
     "output_type": "stream",
     "text": [
      "\u001b[32mSaved PCoAResults % Properties('biplot') to: ../data/Metabolome/tempted/HFD_individual_biplot.qza\u001b[0m\r\n",
      "\u001b[32mSaved SampleData[SampleTrajectory] to: ../data/Metabolome/tempted/HFD_state_loadings.qza\u001b[0m\r\n",
      "\u001b[32mSaved DistanceMatrix to: ../data/Metabolome/tempted/HFD_distance_matrix.qza\u001b[0m\r\n",
      "\u001b[32mSaved SampleData[SampleTrajectory] to: ../data/Metabolome/tempted/HFD_svd_center.qza\u001b[0m\r\n",
      "\u001b[0m"
     ]
    }
   ],
   "source": [
    "!qiime gemelli tempted-factorize \\\n",
    "    --i-table ../data/Metabolome/tempted/HFD_clr-table.qza \\\n",
    "    --m-sample-metadata-file ../data/Microbiome/longIHC_metadata_cleaned.txt \\\n",
    "    --p-individual-id-column 'host_subject_id' \\\n",
    "    --p-state-column 'host_age' \\\n",
    "    --o-individual-biplot ../data/Metabolome/tempted/HFD_individual_biplot.qza \\\n",
    "    --o-state-loadings ../data/Metabolome/tempted/HFD_state_loadings.qza \\\n",
    "    --o-distance-matrix ../data/Metabolome/tempted/HFD_distance_matrix.qza \\\n",
    "    --o-svd-center ../data/Metabolome/tempted/HFD_svd_center.qza"
   ]
  },
  {
   "cell_type": "code",
   "execution_count": 3,
   "metadata": {},
   "outputs": [
    {
     "name": "stdout",
     "output_type": "stream",
     "text": [
      "\u001b[32mSaved Visualization to: ../data/Metabolome/tempted/HFD_metab_subject_biplot.qzv\u001b[0m\r\n",
      "\u001b[0m"
     ]
    }
   ],
   "source": [
    "!qiime emperor biplot \\\n",
    "    --i-biplot ../data/Metabolome/tempted/HFD_individual_biplot.qza \\\n",
    "    --m-sample-metadata-file ../data/Metabolome/tempted/tempted-metadata.tsv \\\n",
    "    --p-number-of-features 3\\\n",
    "    --o-visualization ../data/Metabolome/tempted/HFD_metab_subject_biplot.qzv\n",
    "#Looks great! Separates the two groups well!"
   ]
  },
  {
   "cell_type": "code",
   "execution_count": 5,
   "metadata": {},
   "outputs": [
    {
     "name": "stdout",
     "output_type": "stream",
     "text": [
      "\u001b[32mSaved Visualization to: ../data/Metabolome/tempted/HFD_metab_subject_plot.qzv\u001b[0m\n",
      "\u001b[0m"
     ]
    }
   ],
   "source": [
    "!qiime emperor plot \\\n",
    "    --i-pcoa ../data/Metabolome/tempted/HFD_individual_biplot.qza \\\n",
    "    --m-metadata-file ../data/Metabolome/tempted/tempted-metadata.tsv \\\n",
    "    --p-ignore-pcoa-features True \\\n",
    "    --o-visualization ../data/Metabolome/tempted/HFD_metab_subject_plot.qzv"
   ]
  },
  {
   "cell_type": "code",
   "execution_count": 4,
   "metadata": {},
   "outputs": [
    {
     "name": "stdout",
     "output_type": "stream",
     "text": [
      "\u001b[32mSaved Visualization to: ../data/Metabolome/tempted/HFDranks_tempted_qurro.qzv\u001b[0m\r\n",
      "\u001b[0m"
     ]
    }
   ],
   "source": [
    "!qiime qurro loading-plot \\\n",
    "    --i-table ../data/Metabolome/jointRPCA_rawcounts_all.qza \\\n",
    "    --i-ranks ../data/Metabolome/tempted/HFD_individual_biplot.qza \\\n",
    "    --m-sample-metadata-file ../data/Microbiome/longIHC_metadata_cleaned.txt \\\n",
    "    --o-visualization ../data/Metabolome/tempted/HFDranks_tempted_qurro.qzv"
   ]
  },
  {
   "cell_type": "code",
   "execution_count": null,
   "metadata": {},
   "outputs": [],
   "source": []
  }
 ],
 "metadata": {
  "kernelspec": {
   "display_name": "Python 3 (ipykernel)",
   "language": "python",
   "name": "python3"
  },
  "language_info": {
   "codemirror_mode": {
    "name": "ipython",
    "version": 3
   },
   "file_extension": ".py",
   "mimetype": "text/x-python",
   "name": "python",
   "nbconvert_exporter": "python",
   "pygments_lexer": "ipython3",
   "version": "3.8.16"
  }
 },
 "nbformat": 4,
 "nbformat_minor": 2
}
