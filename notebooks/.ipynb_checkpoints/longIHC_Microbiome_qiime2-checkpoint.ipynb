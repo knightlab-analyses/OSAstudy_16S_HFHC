{
 "cells": [
  {
   "cell_type": "code",
   "execution_count": 2,
   "metadata": {
    "scrolled": true
   },
   "outputs": [],
   "source": [
    "import numpy as np\n",
    "import pandas as pd"
   ]
  },
  {
   "cell_type": "code",
   "execution_count": 2,
   "metadata": {},
   "outputs": [],
   "source": [
    "root = '/Users/callaband/Desktop/UCSD/KnightLab/Haddad/16S_HFHC_10wk_IHC/'"
   ]
  },
  {
   "cell_type": "code",
   "execution_count": 5,
   "metadata": {},
   "outputs": [
    {
     "name": "stdout",
     "output_type": "stream",
     "text": [
      "\u001b[32mSaved Visualization to: /Users/callaband/Desktop/UCSD/KnightLab/Haddad/16S_HFHC_10wk_IHC/data/Microbiome/longIHC-counts-summary-stats.qzv\u001b[0m\r\n",
      "\u001b[0m"
     ]
    }
   ],
   "source": [
    "!qiime feature-table summarize \\\n",
    "    --i-table {root}data/Microbiome/deblur2021-refhit-biomtable.qza \\\n",
    "    --m-sample-metadata-file {root}data/Microbiome/longIHC_metadata_cleaned.txt \\\n",
    "    --o-visualization {root}data/Microbiome/longIHC-counts-summary-stats.qzv\n",
    "#anything above 10,300 would be good, double check with alpha rarefaction"
   ]
  },
  {
   "cell_type": "code",
   "execution_count": 29,
   "metadata": {},
   "outputs": [
    {
     "name": "stdout",
     "output_type": "stream",
     "text": [
      "\u001b[32mSaved FeatureData[Taxonomy] to: /Users/callaband/Desktop/UCSD/KnightLab/Haddad/16S_HFHC_10wk_IHC/data/Microbiome/longIHC_gg2filt_taxonomy.qza\u001b[0m\r\n",
      "\u001b[0m"
     ]
    }
   ],
   "source": [
    "!qiime greengenes2 taxonomy-from-table \\\n",
    "    --i-reference-taxonomy ../../../greengenes2/2022.10.taxonomy.asv.nwk.qza \\\n",
    "    --i-table {root}data/Microbiome/deblur2021-refhit-biomtable.qza \\\n",
    "    --o-classification {root}data/Microbiome/longIHC_gg2filt_taxonomy.qza"
   ]
  },
  {
   "cell_type": "code",
   "execution_count": 32,
   "metadata": {},
   "outputs": [
    {
     "name": "stdout",
     "output_type": "stream",
     "text": [
      "\u001b[32mSaved Visualization to: /Users/callaband/Desktop/UCSD/KnightLab/Haddad/16S_HFHC_10wk_IHC/data/Microbiome/longIHC-gg2filt-summary-stats.qzv\u001b[0m\r\n",
      "\u001b[0m"
     ]
    }
   ],
   "source": [
    "!qiime feature-table summarize \\\n",
    "    --i-table {root}data/Microbiome/gg2filt_longIHC.qza \\\n",
    "    --m-sample-metadata-file {root}data/Microbiome/longIHC_metadata_cleaned.txt \\\n",
    "    --o-visualization {root}data/Microbiome/longIHC-gg2filt-summary-stats.qzv"
   ]
  },
  {
   "cell_type": "code",
   "execution_count": 33,
   "metadata": {},
   "outputs": [
    {
     "name": "stdout",
     "output_type": "stream",
     "text": [
      "\u001b[32mSaved Visualization to: /Users/callaband/Desktop/UCSD/KnightLab/Haddad/16S_HFHC_10wk_IHC/data/Microbiome/longIHC_alpha_rarefaction.qzv\u001b[0m\n",
      "\u001b[0m"
     ]
    }
   ],
   "source": [
    "!qiime diversity alpha-rarefaction \\\n",
    "    --i-table {root}data/Microbiome/gg2filt_longIHC.qza \\\n",
    "    --i-phylogeny ../../../greengenes2/2022.10.phylogeny.asv.nwk.qza \\\n",
    "    --p-max-depth 15000 \\\n",
    "    --p-steps 15 \\\n",
    "    --m-metadata-file {root}data/Microbiome/longIHC_metadata_cleaned.txt \\\n",
    "    --o-visualization {root}data/Microbiome/longIHC_alpha_rarefaction.qzv\n",
    "#confirmed that 10,300 is a good number"
   ]
  },
  {
   "cell_type": "markdown",
   "metadata": {},
   "source": [
    "## Fecal Samples Only"
   ]
  },
  {
   "cell_type": "code",
   "execution_count": 34,
   "metadata": {},
   "outputs": [
    {
     "name": "stdout",
     "output_type": "stream",
     "text": [
      "\u001b[32mSaved FeatureTable[Frequency] to: /Users/callaband/Desktop/UCSD/KnightLab/Haddad/16S_HFHC_10wk_IHC/data/Microbiome/longIHC_gg2filt_feces_table.qza\u001b[0m\r\n",
      "\u001b[0m"
     ]
    }
   ],
   "source": [
    "!qiime feature-table filter-samples \\\n",
    "    --i-table {root}data/Microbiome/gg2filt_longIHC.qza \\\n",
    "    --m-metadata-file {root}data/Microbiome/longIHC_metadata_cleaned.txt \\\n",
    "    --p-where '[sample_type]=\"feces\"' \\\n",
    "    --o-filtered-table {root}data/Microbiome/longIHC_gg2filt_feces_table.qza"
   ]
  },
  {
   "cell_type": "code",
   "execution_count": 35,
   "metadata": {},
   "outputs": [
    {
     "name": "stdout",
     "output_type": "stream",
     "text": [
      "\u001b[32mSaved Visualization to: /Users/callaband/Desktop/UCSD/KnightLab/Haddad/16S_HFHC_10wk_IHC/data/Microbiome/longIHC-feces-summary-stats.qzv\u001b[0m\n",
      "\u001b[0m"
     ]
    }
   ],
   "source": [
    "!qiime feature-table summarize \\\n",
    "    --i-table {root}data/Microbiome/longIHC_gg2filt_feces_table.qza \\\n",
    "    --m-sample-metadata-file {root}data/Microbiome/longIHC_metadata_cleaned.txt \\\n",
    "    --o-visualization {root}data/Microbiome/longIHC-feces-summary-stats.qzv"
   ]
  },
  {
   "cell_type": "markdown",
   "metadata": {},
   "source": [
    "# Alpha and Beta Diversity"
   ]
  },
  {
   "cell_type": "code",
   "execution_count": 36,
   "metadata": {},
   "outputs": [
    {
     "name": "stdout",
     "output_type": "stream",
     "text": [
      "\u001b[32mSaved FeatureTable[Frequency] to: /Users/callaband/Desktop/UCSD/KnightLab/Haddad/16S_HFHC_10wk_IHC/data/Microbiome/core_diversity_fecal_10300_gg2/rarefied_table.qza\u001b[0m\n",
      "\u001b[32mSaved SampleData[AlphaDiversity] to: /Users/callaband/Desktop/UCSD/KnightLab/Haddad/16S_HFHC_10wk_IHC/data/Microbiome/core_diversity_fecal_10300_gg2/faith_pd_vector.qza\u001b[0m\n",
      "\u001b[32mSaved SampleData[AlphaDiversity] to: /Users/callaband/Desktop/UCSD/KnightLab/Haddad/16S_HFHC_10wk_IHC/data/Microbiome/core_diversity_fecal_10300_gg2/observed_features_vector.qza\u001b[0m\n",
      "\u001b[32mSaved SampleData[AlphaDiversity] to: /Users/callaband/Desktop/UCSD/KnightLab/Haddad/16S_HFHC_10wk_IHC/data/Microbiome/core_diversity_fecal_10300_gg2/shannon_vector.qza\u001b[0m\n",
      "\u001b[32mSaved SampleData[AlphaDiversity] to: /Users/callaband/Desktop/UCSD/KnightLab/Haddad/16S_HFHC_10wk_IHC/data/Microbiome/core_diversity_fecal_10300_gg2/evenness_vector.qza\u001b[0m\n",
      "\u001b[32mSaved DistanceMatrix to: /Users/callaband/Desktop/UCSD/KnightLab/Haddad/16S_HFHC_10wk_IHC/data/Microbiome/core_diversity_fecal_10300_gg2/unweighted_unifrac_distance_matrix.qza\u001b[0m\n",
      "\u001b[32mSaved DistanceMatrix to: /Users/callaband/Desktop/UCSD/KnightLab/Haddad/16S_HFHC_10wk_IHC/data/Microbiome/core_diversity_fecal_10300_gg2/weighted_unifrac_distance_matrix.qza\u001b[0m\n",
      "\u001b[32mSaved DistanceMatrix to: /Users/callaband/Desktop/UCSD/KnightLab/Haddad/16S_HFHC_10wk_IHC/data/Microbiome/core_diversity_fecal_10300_gg2/jaccard_distance_matrix.qza\u001b[0m\n",
      "\u001b[32mSaved DistanceMatrix to: /Users/callaband/Desktop/UCSD/KnightLab/Haddad/16S_HFHC_10wk_IHC/data/Microbiome/core_diversity_fecal_10300_gg2/bray_curtis_distance_matrix.qza\u001b[0m\n",
      "\u001b[32mSaved PCoAResults to: /Users/callaband/Desktop/UCSD/KnightLab/Haddad/16S_HFHC_10wk_IHC/data/Microbiome/core_diversity_fecal_10300_gg2/unweighted_unifrac_pcoa_results.qza\u001b[0m\n",
      "\u001b[32mSaved PCoAResults to: /Users/callaband/Desktop/UCSD/KnightLab/Haddad/16S_HFHC_10wk_IHC/data/Microbiome/core_diversity_fecal_10300_gg2/weighted_unifrac_pcoa_results.qza\u001b[0m\n",
      "\u001b[32mSaved PCoAResults to: /Users/callaband/Desktop/UCSD/KnightLab/Haddad/16S_HFHC_10wk_IHC/data/Microbiome/core_diversity_fecal_10300_gg2/jaccard_pcoa_results.qza\u001b[0m\n",
      "\u001b[32mSaved PCoAResults to: /Users/callaband/Desktop/UCSD/KnightLab/Haddad/16S_HFHC_10wk_IHC/data/Microbiome/core_diversity_fecal_10300_gg2/bray_curtis_pcoa_results.qza\u001b[0m\n",
      "\u001b[32mSaved Visualization to: /Users/callaband/Desktop/UCSD/KnightLab/Haddad/16S_HFHC_10wk_IHC/data/Microbiome/core_diversity_fecal_10300_gg2/unweighted_unifrac_emperor.qzv\u001b[0m\n",
      "\u001b[32mSaved Visualization to: /Users/callaband/Desktop/UCSD/KnightLab/Haddad/16S_HFHC_10wk_IHC/data/Microbiome/core_diversity_fecal_10300_gg2/weighted_unifrac_emperor.qzv\u001b[0m\n",
      "\u001b[32mSaved Visualization to: /Users/callaband/Desktop/UCSD/KnightLab/Haddad/16S_HFHC_10wk_IHC/data/Microbiome/core_diversity_fecal_10300_gg2/jaccard_emperor.qzv\u001b[0m\n",
      "\u001b[32mSaved Visualization to: /Users/callaband/Desktop/UCSD/KnightLab/Haddad/16S_HFHC_10wk_IHC/data/Microbiome/core_diversity_fecal_10300_gg2/bray_curtis_emperor.qzv\u001b[0m\n",
      "\u001b[0m"
     ]
    }
   ],
   "source": [
    "!qiime diversity core-metrics-phylogenetic \\\n",
    "    --i-phylogeny ../../../greengenes2/2022.10.phylogeny.asv.nwk.qza \\\n",
    "    --i-table {root}data/Microbiome/longIHC_gg2filt_feces_table.qza \\\n",
    "    --p-sampling-depth 10300 \\\n",
    "    --m-metadata-file {root}data/Microbiome/longIHC_metadata_cleaned.txt \\\n",
    "    --output-dir {root}data/Microbiome/core_diversity_fecal_10300_gg2"
   ]
  },
  {
   "cell_type": "code",
   "execution_count": 10,
   "metadata": {},
   "outputs": [
    {
     "name": "stdout",
     "output_type": "stream",
     "text": [
      "\u001b[32mSaved Visualization to: ../data/Microbiome/core_diversity_fecal_10300_gg2/observed_features_vector.qzv\u001b[0m\n",
      "\u001b[0m\u001b[32mSaved Visualization to: ../data/Microbiome/core_diversity_fecal_10300_gg2/faith_pd_vector.qzv\u001b[0m\n",
      "\u001b[0m\u001b[32mSaved Visualization to: ../data/Microbiome/core_diversity_fecal_10300_gg2/shannon_vector.qzv\u001b[0m\n",
      "\u001b[0m"
     ]
    }
   ],
   "source": [
    "!qiime diversity alpha-group-significance \\\n",
    "    --i-alpha-diversity ../data/Microbiome/core_diversity_fecal_10300_gg2/observed_features_vector.qza \\\n",
    "    --m-metadata-file ../data/Microbiome/longIHC_metadata_cleaned.txt \\\n",
    "    --o-visualization ../data/Microbiome/core_diversity_fecal_10300_gg2/observed_features_vector.qzv\n",
    "\n",
    "!qiime diversity alpha-group-significance \\\n",
    "    --i-alpha-diversity ../data/Microbiome/core_diversity_fecal_10300_gg2/faith_pd_vector.qza \\\n",
    "    --m-metadata-file ../data/Microbiome/longIHC_metadata_cleaned.txt \\\n",
    "    --o-visualization ../data/Microbiome/core_diversity_fecal_10300_gg2/faith_pd_vector.qzv\n",
    "\n",
    "!qiime diversity alpha-group-significance \\\n",
    "    --i-alpha-diversity ../data/Microbiome/core_diversity_fecal_10300_gg2/shannon_vector.qza \\\n",
    "    --m-metadata-file ../data/Microbiome/longIHC_metadata_cleaned.txt \\\n",
    "    --o-visualization ../data/Microbiome/core_diversity_fecal_10300_gg2/shannon_vector.qzv"
   ]
  },
  {
   "cell_type": "code",
   "execution_count": 13,
   "metadata": {},
   "outputs": [
    {
     "name": "stdout",
     "output_type": "stream",
     "text": [
      "\u001b[32mExported ../data/Microbiome/core_diversity_fecal_10300_gg2/faith_pd_vector.qza as AlphaDiversityDirectoryFormat to directory ../data/Microbiome/core_diversity_fecal_10300_gg2/faith_pd_vector\u001b[0m\r\n",
      "\u001b[0m"
     ]
    }
   ],
   "source": [
    "!qiime tools export \\\n",
    "    --input-path ../data/Microbiome/core_diversity_fecal_10300_gg2/faith_pd_vector.qza \\\n",
    "    --output-path ../data/Microbiome/core_diversity_fecal_10300_gg2/faith_pd_vector"
   ]
  },
  {
   "cell_type": "code",
   "execution_count": null,
   "metadata": {},
   "outputs": [],
   "source": [
    "#alpha diversity raincloud plots https://github.com/qiime2/q2-fmt doesn't seem to work right now"
   ]
  },
  {
   "cell_type": "code",
   "execution_count": 15,
   "metadata": {},
   "outputs": [],
   "source": [
    "import pandas as pd"
   ]
  },
  {
   "cell_type": "code",
   "execution_count": 16,
   "metadata": {},
   "outputs": [],
   "source": [
    "md = pd.read_csv('../data/Microbiome/longIHC_metadata_cleaned.txt', sep='\\t', index_col=0)"
   ]
  },
  {
   "cell_type": "code",
   "execution_count": 20,
   "metadata": {},
   "outputs": [
    {
     "data": {
      "text/html": [
       "<div>\n",
       "<style scoped>\n",
       "    .dataframe tbody tr th:only-of-type {\n",
       "        vertical-align: middle;\n",
       "    }\n",
       "\n",
       "    .dataframe tbody tr th {\n",
       "        vertical-align: top;\n",
       "    }\n",
       "\n",
       "    .dataframe thead th {\n",
       "        text-align: right;\n",
       "    }\n",
       "</style>\n",
       "<table border=\"1\" class=\"dataframe\">\n",
       "  <thead>\n",
       "    <tr style=\"text-align: right;\">\n",
       "      <th></th>\n",
       "      <th>faith_pd</th>\n",
       "    </tr>\n",
       "    <tr>\n",
       "      <th>#SampleID</th>\n",
       "      <th></th>\n",
       "    </tr>\n",
       "  </thead>\n",
       "  <tbody>\n",
       "    <tr>\n",
       "      <th>11548.A16.91.4</th>\n",
       "      <td>7586.710049</td>\n",
       "    </tr>\n",
       "    <tr>\n",
       "      <th>11548.A15.85.11</th>\n",
       "      <td>6976.614848</td>\n",
       "    </tr>\n",
       "    <tr>\n",
       "      <th>11548.A15.87.8</th>\n",
       "      <td>9725.214361</td>\n",
       "    </tr>\n",
       "    <tr>\n",
       "      <th>11548.A16.92.3</th>\n",
       "      <td>8727.321023</td>\n",
       "    </tr>\n",
       "    <tr>\n",
       "      <th>11548.A16.89.6</th>\n",
       "      <td>5578.435140</td>\n",
       "    </tr>\n",
       "  </tbody>\n",
       "</table>\n",
       "</div>"
      ],
      "text/plain": [
       "                    faith_pd\n",
       "#SampleID                   \n",
       "11548.A16.91.4   7586.710049\n",
       "11548.A15.85.11  6976.614848\n",
       "11548.A15.87.8   9725.214361\n",
       "11548.A16.92.3   8727.321023\n",
       "11548.A16.89.6   5578.435140"
      ]
     },
     "execution_count": 20,
     "metadata": {},
     "output_type": "execute_result"
    }
   ],
   "source": [
    "obsft = pd.read_csv('../data/Microbiome/core_diversity_fecal_10300_gg2/observed_features_vector.tsv', sep='\\t', index_col=0)\n",
    "shannon = pd.read_csv('../data/Microbiome/core_diversity_fecal_10300_gg2/shannon_vector.tsv', sep='\\t', index_col=0)\n",
    "faiths = pd.read_csv('../data/Microbiome/core_diversity_fecal_10300_gg2/faith_pd_vector.tsv', sep='\\t', index_col=0)\n",
    "faiths.head()"
   ]
  },
  {
   "cell_type": "code",
   "execution_count": 24,
   "metadata": {},
   "outputs": [
    {
     "data": {
      "text/html": [
       "<div>\n",
       "<style scoped>\n",
       "    .dataframe tbody tr th:only-of-type {\n",
       "        vertical-align: middle;\n",
       "    }\n",
       "\n",
       "    .dataframe tbody tr th {\n",
       "        vertical-align: top;\n",
       "    }\n",
       "\n",
       "    .dataframe thead th {\n",
       "        text-align: right;\n",
       "    }\n",
       "</style>\n",
       "<table border=\"1\" class=\"dataframe\">\n",
       "  <thead>\n",
       "    <tr style=\"text-align: right;\">\n",
       "      <th></th>\n",
       "      <th>anonymized_name</th>\n",
       "      <th>cage_food_consumption_g</th>\n",
       "      <th>cage_location</th>\n",
       "      <th>cage_notes</th>\n",
       "      <th>cage_number</th>\n",
       "      <th>collection_timestamp</th>\n",
       "      <th>description</th>\n",
       "      <th>diet</th>\n",
       "      <th>dna_extracted</th>\n",
       "      <th>dob</th>\n",
       "      <th>...</th>\n",
       "      <th>sex</th>\n",
       "      <th>taxon_id</th>\n",
       "      <th>timepoint</th>\n",
       "      <th>title</th>\n",
       "      <th>treatment</th>\n",
       "      <th>diet_short</th>\n",
       "      <th>diet_exp</th>\n",
       "      <th>observed_features</th>\n",
       "      <th>shannon_entropy</th>\n",
       "      <th>faith_pd</th>\n",
       "    </tr>\n",
       "  </thead>\n",
       "  <tbody>\n",
       "    <tr>\n",
       "      <th>11548.A15.85.1</th>\n",
       "      <td>A15.85.1</td>\n",
       "      <td>not applicable</td>\n",
       "      <td>on shelf</td>\n",
       "      <td>fighting cage</td>\n",
       "      <td>A15</td>\n",
       "      <td>9/26/17 11:00</td>\n",
       "      <td>Mouse 85 baseline stool collection 1 of 20</td>\n",
       "      <td>Regular chow</td>\n",
       "      <td>True</td>\n",
       "      <td>7/18/17</td>\n",
       "      <td>...</td>\n",
       "      <td>male</td>\n",
       "      <td>410661</td>\n",
       "      <td>NaN</td>\n",
       "      <td>10 week IHC</td>\n",
       "      <td>NaN</td>\n",
       "      <td>RC</td>\n",
       "      <td>RC_AIR</td>\n",
       "      <td>243.0</td>\n",
       "      <td>5.089074</td>\n",
       "      <td>8013.923195</td>\n",
       "    </tr>\n",
       "    <tr>\n",
       "      <th>11548.A15.85.10</th>\n",
       "      <td>A15.85.10</td>\n",
       "      <td>64</td>\n",
       "      <td>on shelf</td>\n",
       "      <td>started changing air cages 4x/wk 10/26/2017</td>\n",
       "      <td>A15</td>\n",
       "      <td>10/27/17 11:00</td>\n",
       "      <td>Mouse 85 stool collection 10 of 20</td>\n",
       "      <td>Regular chow</td>\n",
       "      <td>True</td>\n",
       "      <td>7/18/17</td>\n",
       "      <td>...</td>\n",
       "      <td>male</td>\n",
       "      <td>410661</td>\n",
       "      <td>not provided</td>\n",
       "      <td>10 week IHC</td>\n",
       "      <td>not provided</td>\n",
       "      <td>RC</td>\n",
       "      <td>RC_AIR</td>\n",
       "      <td>196.0</td>\n",
       "      <td>3.969523</td>\n",
       "      <td>6558.019574</td>\n",
       "    </tr>\n",
       "    <tr>\n",
       "      <th>11548.A15.85.10.b</th>\n",
       "      <td>A15.85.10</td>\n",
       "      <td>64</td>\n",
       "      <td>on shelf</td>\n",
       "      <td>started changing air cages 4x/wk 10/26/2017</td>\n",
       "      <td>A15</td>\n",
       "      <td>10/27/17 11:00</td>\n",
       "      <td>Mouse 85 stool collection 10 of 20</td>\n",
       "      <td>Regular chow</td>\n",
       "      <td>True</td>\n",
       "      <td>7/18/17</td>\n",
       "      <td>...</td>\n",
       "      <td>male</td>\n",
       "      <td>410661</td>\n",
       "      <td>not provided</td>\n",
       "      <td>10 week IHC</td>\n",
       "      <td>not provided</td>\n",
       "      <td>RC</td>\n",
       "      <td>RC_AIR</td>\n",
       "      <td>NaN</td>\n",
       "      <td>NaN</td>\n",
       "      <td>NaN</td>\n",
       "    </tr>\n",
       "    <tr>\n",
       "      <th>11548.A15.85.11</th>\n",
       "      <td>A15.85.11</td>\n",
       "      <td>96.7</td>\n",
       "      <td>on shelf</td>\n",
       "      <td>NaN</td>\n",
       "      <td>A15</td>\n",
       "      <td>10/31/17 11:00</td>\n",
       "      <td>Mouse 85 stool collection 11 of 20</td>\n",
       "      <td>Regular chow</td>\n",
       "      <td>True</td>\n",
       "      <td>7/18/17</td>\n",
       "      <td>...</td>\n",
       "      <td>male</td>\n",
       "      <td>410661</td>\n",
       "      <td>not provided</td>\n",
       "      <td>10 week IHC</td>\n",
       "      <td>not provided</td>\n",
       "      <td>RC</td>\n",
       "      <td>RC_AIR</td>\n",
       "      <td>201.0</td>\n",
       "      <td>4.132049</td>\n",
       "      <td>6976.614848</td>\n",
       "    </tr>\n",
       "    <tr>\n",
       "      <th>11548.A15.85.11.b</th>\n",
       "      <td>A15.85.11</td>\n",
       "      <td>96.7</td>\n",
       "      <td>on shelf</td>\n",
       "      <td>NaN</td>\n",
       "      <td>A15</td>\n",
       "      <td>10/31/17 11:00</td>\n",
       "      <td>Mouse 85 stool collection 11 of 20</td>\n",
       "      <td>Regular chow</td>\n",
       "      <td>True</td>\n",
       "      <td>7/18/17</td>\n",
       "      <td>...</td>\n",
       "      <td>male</td>\n",
       "      <td>410661</td>\n",
       "      <td>not provided</td>\n",
       "      <td>10 week IHC</td>\n",
       "      <td>not provided</td>\n",
       "      <td>RC</td>\n",
       "      <td>RC_AIR</td>\n",
       "      <td>NaN</td>\n",
       "      <td>NaN</td>\n",
       "      <td>NaN</td>\n",
       "    </tr>\n",
       "  </tbody>\n",
       "</table>\n",
       "<p>5 rows × 56 columns</p>\n",
       "</div>"
      ],
      "text/plain": [
       "                  anonymized_name cage_food_consumption_g cage_location  \\\n",
       "11548.A15.85.1           A15.85.1          not applicable      on shelf   \n",
       "11548.A15.85.10         A15.85.10                      64      on shelf   \n",
       "11548.A15.85.10.b       A15.85.10                      64      on shelf   \n",
       "11548.A15.85.11         A15.85.11                    96.7      on shelf   \n",
       "11548.A15.85.11.b       A15.85.11                    96.7      on shelf   \n",
       "\n",
       "                                                    cage_notes cage_number  \\\n",
       "11548.A15.85.1                                   fighting cage         A15   \n",
       "11548.A15.85.10    started changing air cages 4x/wk 10/26/2017         A15   \n",
       "11548.A15.85.10.b  started changing air cages 4x/wk 10/26/2017         A15   \n",
       "11548.A15.85.11                                            NaN         A15   \n",
       "11548.A15.85.11.b                                          NaN         A15   \n",
       "\n",
       "                  collection_timestamp  \\\n",
       "11548.A15.85.1           9/26/17 11:00   \n",
       "11548.A15.85.10         10/27/17 11:00   \n",
       "11548.A15.85.10.b       10/27/17 11:00   \n",
       "11548.A15.85.11         10/31/17 11:00   \n",
       "11548.A15.85.11.b       10/31/17 11:00   \n",
       "\n",
       "                                                  description          diet  \\\n",
       "11548.A15.85.1     Mouse 85 baseline stool collection 1 of 20  Regular chow   \n",
       "11548.A15.85.10            Mouse 85 stool collection 10 of 20  Regular chow   \n",
       "11548.A15.85.10.b          Mouse 85 stool collection 10 of 20  Regular chow   \n",
       "11548.A15.85.11            Mouse 85 stool collection 11 of 20  Regular chow   \n",
       "11548.A15.85.11.b          Mouse 85 stool collection 11 of 20  Regular chow   \n",
       "\n",
       "                   dna_extracted      dob  ...   sex taxon_id     timepoint  \\\n",
       "11548.A15.85.1              True  7/18/17  ...  male   410661           NaN   \n",
       "11548.A15.85.10             True  7/18/17  ...  male   410661  not provided   \n",
       "11548.A15.85.10.b           True  7/18/17  ...  male   410661  not provided   \n",
       "11548.A15.85.11             True  7/18/17  ...  male   410661  not provided   \n",
       "11548.A15.85.11.b           True  7/18/17  ...  male   410661  not provided   \n",
       "\n",
       "                         title     treatment diet_short diet_exp  \\\n",
       "11548.A15.85.1     10 week IHC           NaN         RC   RC_AIR   \n",
       "11548.A15.85.10    10 week IHC  not provided         RC   RC_AIR   \n",
       "11548.A15.85.10.b  10 week IHC  not provided         RC   RC_AIR   \n",
       "11548.A15.85.11    10 week IHC  not provided         RC   RC_AIR   \n",
       "11548.A15.85.11.b  10 week IHC  not provided         RC   RC_AIR   \n",
       "\n",
       "                  observed_features shannon_entropy     faith_pd  \n",
       "11548.A15.85.1                243.0        5.089074  8013.923195  \n",
       "11548.A15.85.10               196.0        3.969523  6558.019574  \n",
       "11548.A15.85.10.b               NaN             NaN          NaN  \n",
       "11548.A15.85.11               201.0        4.132049  6976.614848  \n",
       "11548.A15.85.11.b               NaN             NaN          NaN  \n",
       "\n",
       "[5 rows x 56 columns]"
      ]
     },
     "execution_count": 24,
     "metadata": {},
     "output_type": "execute_result"
    }
   ],
   "source": [
    "alpha = pd.concat([md, obsft, shannon, faiths], axis=1)\n",
    "alpha.head()"
   ]
  },
  {
   "cell_type": "code",
   "execution_count": 27,
   "metadata": {},
   "outputs": [],
   "source": [
    "alpha.index.name = 'sample_name'"
   ]
  },
  {
   "cell_type": "code",
   "execution_count": 30,
   "metadata": {},
   "outputs": [],
   "source": [
    "alpha.dropna(subset=['faith_pd', 'observed_features', 'shannon_entropy'], inplace=True)"
   ]
  },
  {
   "cell_type": "code",
   "execution_count": 31,
   "metadata": {},
   "outputs": [],
   "source": [
    "alpha.to_csv('../data/Microbiome/core_diversity_fecal_10300_gg2/longIHC_metadata_alpha.txt', sep='\\t')"
   ]
  },
  {
   "cell_type": "code",
   "execution_count": 32,
   "metadata": {},
   "outputs": [
    {
     "name": "stdout",
     "output_type": "stream",
     "text": [
      "\u001b[32mSaved Visualization to: ../data/Microbiome/core_diversity_fecal_10300_gg2/alpha-faiths_LME.qzv\u001b[0m\n",
      "\u001b[0m\u001b[32mSaved Visualization to: ../data/Microbiome/core_diversity_fecal_10300_gg2/alpha-observedfts_LME.qzv\u001b[0m\n",
      "\u001b[0m\u001b[32mSaved Visualization to: ../data/Microbiome/core_diversity_fecal_10300_gg2/alpha-shannon_LME.qzv\u001b[0m\n",
      "\u001b[0m"
     ]
    }
   ],
   "source": [
    "!qiime longitudinal linear-mixed-effects\\\n",
    "    --m-metadata-file ../data/Microbiome/core_diversity_fecal_10300_gg2/longIHC_metadata_alpha.txt \\\n",
    "    --p-state-column host_age \\\n",
    "    --p-individual-id-column host_subject_id \\\n",
    "    --p-group-columns diet_exp \\\n",
    "    --p-metric faith_pd \\\n",
    "    --o-visualization ../data/Microbiome/core_diversity_fecal_10300_gg2/alpha-faiths_LME.qzv\n",
    "\n",
    "!qiime longitudinal linear-mixed-effects\\\n",
    "    --m-metadata-file ../data/Microbiome/core_diversity_fecal_10300_gg2/longIHC_metadata_alpha.txt \\\n",
    "    --p-state-column host_age \\\n",
    "    --p-individual-id-column host_subject_id \\\n",
    "    --p-group-columns diet_exp \\\n",
    "    --p-metric observed_features \\\n",
    "    --o-visualization ../data/Microbiome/core_diversity_fecal_10300_gg2/alpha-observedfts_LME.qzv\n",
    "\n",
    "!qiime longitudinal linear-mixed-effects\\\n",
    "    --m-metadata-file ../data/Microbiome/core_diversity_fecal_10300_gg2/longIHC_metadata_alpha.txt \\\n",
    "    --p-state-column host_age \\\n",
    "    --p-individual-id-column host_subject_id \\\n",
    "    --p-group-columns diet_exp \\\n",
    "    --p-metric shannon_entropy \\\n",
    "    --o-visualization ../data/Microbiome/core_diversity_fecal_10300_gg2/alpha-shannon_LME.qzv"
   ]
  },
  {
   "cell_type": "code",
   "execution_count": 37,
   "metadata": {},
   "outputs": [
    {
     "name": "stdout",
     "output_type": "stream",
     "text": [
      "\u001b[32mExported /Users/callaband/Desktop/UCSD/KnightLab/Haddad/16S_HFHC_10wk_IHC/data/Microbiome/core_diversity_fecal_10300_gg2/weighted_unifrac_distance_matrix.qza as DistanceMatrixDirectoryFormat to directory /Users/callaband/Desktop/UCSD/KnightLab/Haddad/16S_HFHC_10wk_IHC/data/Microbiome/core_diversity_fecal_10300_gg2/\u001b[0m\r\n",
      "\u001b[0m"
     ]
    }
   ],
   "source": [
    "!qiime tools export \\\n",
    "    --input-path {root}data/Microbiome/core_diversity_fecal_10300_gg2/weighted_unifrac_distance_matrix.qza \\\n",
    "    --output-path {root}data/Microbiome/core_diversity_fecal_10300_gg2/"
   ]
  },
  {
   "cell_type": "code",
   "execution_count": 38,
   "metadata": {},
   "outputs": [
    {
     "name": "stdout",
     "output_type": "stream",
     "text": [
      "\u001b[32mSaved Visualization to: /Users/callaband/Desktop/UCSD/KnightLab/Haddad/16S_HFHC_10wk_IHC/data/Microbiome/core_diversity_fecal_10300_gg2/wUF_emperor_time.qzv\u001b[0m\r\n",
      "\u001b[0m"
     ]
    }
   ],
   "source": [
    "!qiime emperor plot \\\n",
    "  --i-pcoa  {root}data/Microbiome/core_diversity_fecal_10300_gg2/weighted_unifrac_pcoa_results.qza \\\n",
    "  --m-metadata-file {root}data/Microbiome/longIHC_metadata_cleaned.txt \\\n",
    "  --p-custom-axes host_age \\\n",
    "  --o-visualization {root}data/Microbiome/core_diversity_fecal_10300_gg2/wUF_emperor_time.qzv \\\n",
    "#make a weighted unifrac emperor plot where one axis is time"
   ]
  },
  {
   "cell_type": "code",
   "execution_count": 39,
   "metadata": {},
   "outputs": [
    {
     "name": "stdout",
     "output_type": "stream",
     "text": [
      "\u001b[32mSaved Visualization to: /Users/callaband/Desktop/UCSD/KnightLab/Haddad/16S_HFHC_10wk_IHC/data/Microbiome/core_diversity_fecal_10300_gg2/wUF_exposure_bsig.qzv\u001b[0m\r\n",
      "\u001b[0m"
     ]
    }
   ],
   "source": [
    "!qiime diversity beta-group-significance\\\n",
    "  --i-distance-matrix {root}data/Microbiome/core_diversity_fecal_10300_gg2/weighted_unifrac_distance_matrix.qza\\\n",
    "  --m-metadata-file {root}data/Microbiome/longIHC_metadata_cleaned.txt\\\n",
    "  --m-metadata-column exposure_type\\\n",
    "  --p-method permanova\\\n",
    "  --p-pairwise\\\n",
    "  --o-visualization {root}data/Microbiome/core_diversity_fecal_10300_gg2/wUF_exposure_bsig.qzv"
   ]
  },
  {
   "cell_type": "code",
   "execution_count": 40,
   "metadata": {},
   "outputs": [
    {
     "name": "stdout",
     "output_type": "stream",
     "text": [
      "\u001b[32mSaved Visualization to: /Users/callaband/Desktop/UCSD/KnightLab/Haddad/16S_HFHC_10wk_IHC/data/Microbiome/core_diversity_fecal_10300_gg2/wUF_diet-exp_bsig.qzv\u001b[0m\n",
      "\u001b[0m"
     ]
    }
   ],
   "source": [
    "!qiime diversity beta-group-significance\\\n",
    "  --i-distance-matrix {root}data/Microbiome/core_diversity_fecal_10300_gg2/weighted_unifrac_distance_matrix.qza\\\n",
    "  --m-metadata-file {root}data/Microbiome/longIHC_metadata_cleaned.txt\\\n",
    "  --m-metadata-column diet_exp\\\n",
    "  --p-method permanova\\\n",
    "  --p-pairwise\\\n",
    "  --o-visualization {root}data/Microbiome/core_diversity_fecal_10300_gg2/wUF_diet-exp_bsig.qzv"
   ]
  },
  {
   "cell_type": "code",
   "execution_count": 41,
   "metadata": {},
   "outputs": [
    {
     "name": "stdout",
     "output_type": "stream",
     "text": [
      "\u001b[32mSaved FeatureData[DifferentialAbundance] to: /Users/callaband/Desktop/UCSD/KnightLab/Haddad/16S_HFHC_10wk_IHC/data/Microbiome/longIHC_diet-exp_ancombc_differentials.qza\u001b[0m\r\n",
      "\u001b[0m"
     ]
    }
   ],
   "source": [
    "!qiime composition ancombc \\\n",
    "    --i-table {root}data/Microbiome/longIHC_gg2filt_feces_table.qza \\\n",
    "    --m-metadata-file {root}data/Microbiome/longIHC_metadata_cleaned.txt \\\n",
    "    --p-formula \"diet + exposure_type\" \\\n",
    "    --p-p-adj-method 'holm' \\\n",
    "    --p-alpha 0.05 \\\n",
    "    --o-differentials {root}data/Microbiome/longIHC_diet-exp_ancombc_differentials.qza"
   ]
  },
  {
   "cell_type": "code",
   "execution_count": 4,
   "metadata": {},
   "outputs": [
    {
     "name": "stdout",
     "output_type": "stream",
     "text": [
      "\u001b[32mSaved Visualization to: /Users/callaband/Desktop/UCSD/KnightLab/Haddad/16S_HFHC_10wk_IHC/data/Microbiome/longIHC_diet-exp_ancombc_barplot.qzv\u001b[0m\r\n",
      "\u001b[0m"
     ]
    }
   ],
   "source": [
    "!qiime composition da-barplot \\\n",
    "  --i-data {root}data/Microbiome/longIHC_diet-exp_ancombc_differentials.qza \\\n",
    "  --p-significance-threshold 0.001 \\\n",
    "  --o-visualization {root}data/Microbiome/longIHC_diet-exp_ancombc_barplot.qzv"
   ]
  },
  {
   "cell_type": "code",
   "execution_count": null,
   "metadata": {},
   "outputs": [],
   "source": [
    "qiime composition da-barplot \\\n",
    "    --i-data ../data/Microbiome/longIHC_diet-exp_ancombc_differentials.qza \\\n",
    "    --p-significance-threshold 0.0001 \\\n",
    "    --p-label-limit 1000 \\\n",
    "    --p-effect-size-threshold 2 \\\n",
    "    --o-visualization ../data/Microbiome/longIHC_diet-exp_ancombc_barplot_p0001_labels.qzv"
   ]
  },
  {
   "cell_type": "markdown",
   "metadata": {},
   "source": [
    "# RPCA (clr-based Beta Diversity)\n",
    "qiime2-2023.5-gemelli Environment (gemelli 0.0.11)"
   ]
  },
  {
   "cell_type": "markdown",
   "metadata": {},
   "source": [
    "#### First, check if needs to be rarified, typically no"
   ]
  },
  {
   "cell_type": "code",
   "execution_count": 40,
   "metadata": {},
   "outputs": [
    {
     "name": "stdout",
     "output_type": "stream",
     "text": [
      "\u001b[32mSaved FeatureTable[Frequency] to: /Users/callaband/Desktop/UCSD/KnightLab/Haddad/16S_HFHC_10wk_IHC/data/Microbiome/lr-metrics/longIHC_gg2filt_feces_table_10300.qza\u001b[0m\n",
      "\u001b[0m"
     ]
    }
   ],
   "source": [
    "!qiime feature-table filter-samples \\\n",
    "    --i-table {root}data/Microbiome/longIHC_gg2filt_feces_table.qza \\\n",
    "    --p-min-frequency 10300 \\\n",
    "    --o-filtered-table {root}data/Microbiome/lr-metrics/longIHC_gg2filt_feces_table_10300.qza\n",
    "#unrarified, but samples less than rarfaction depth dropped"
   ]
  },
  {
   "cell_type": "code",
   "execution_count": 41,
   "metadata": {},
   "outputs": [
    {
     "name": "stdout",
     "output_type": "stream",
     "text": [
      "\u001b[32mSaved Visualization to: /Users/callaband/Desktop/UCSD/KnightLab/Haddad/16S_HFHC_10wk_IHC/data/Microbiome/lr-metrics/longIHC_gg2filt_feces_table_10300_summary.qzv\u001b[0m\n",
      "\u001b[0m"
     ]
    }
   ],
   "source": [
    "!qiime feature-table summarize \\\n",
    "    --i-table {root}data/Microbiome/lr-metrics/longIHC_gg2filt_feces_table_10300.qza \\\n",
    "    --m-sample-metadata-file {root}data/Microbiome/longIHC_metadata_cleaned.txt \\\n",
    "    --o-visualization {root}data/Microbiome/lr-metrics/longIHC_gg2filt_feces_table_10300_summary.qzv\n",
    "#Worked!"
   ]
  },
  {
   "cell_type": "code",
   "execution_count": 42,
   "metadata": {},
   "outputs": [
    {
     "name": "stdout",
     "output_type": "stream",
     "text": [
      "\u001b[32mSaved PCoAResults % Properties('biplot') to: /Users/callaband/Desktop/UCSD/KnightLab/Haddad/16S_HFHC_10wk_IHC/data/Microbiome/lr-metrics/rpca-ordination.qza\u001b[0m\n",
      "\u001b[32mSaved DistanceMatrix to: /Users/callaband/Desktop/UCSD/KnightLab/Haddad/16S_HFHC_10wk_IHC/data/Microbiome/lr-metrics/rpca-distance.qza\u001b[0m\n",
      "\u001b[0m"
     ]
    }
   ],
   "source": [
    "!qiime gemelli rpca \\\n",
    "    --i-table {root}data/Microbiome/lr-metrics/longIHC_gg2filt_feces_table_10300.qza \\\n",
    "    --p-min-sample-count 10300 \\\n",
    "    --o-biplot {root}data/Microbiome/lr-metrics/rpca-ordination.qza \\\n",
    "    --o-distance-matrix {root}data/Microbiome/lr-metrics/rpca-distance.qza"
   ]
  },
  {
   "cell_type": "code",
   "execution_count": 44,
   "metadata": {},
   "outputs": [
    {
     "name": "stdout",
     "output_type": "stream",
     "text": [
      "\u001b[32mSaved PCoAResults % Properties('biplot') to: /Users/callaband/Desktop/UCSD/KnightLab/Haddad/16S_HFHC_10wk_IHC/data/Microbiome/lr-metrics/rpca-rarefied-ordination.qza\u001b[0m\n",
      "\u001b[32mSaved DistanceMatrix to: /Users/callaband/Desktop/UCSD/KnightLab/Haddad/16S_HFHC_10wk_IHC/data/Microbiome/lr-metrics/rpca-rarefied-distance.qza\u001b[0m\n",
      "\u001b[0m"
     ]
    }
   ],
   "source": [
    "!qiime gemelli rpca \\\n",
    "    --i-table {root}data/Microbiome/core_diversity_fecal_10300_gg2/rarefied_table.qza \\\n",
    "    --o-biplot {root}data/Microbiome/lr-metrics/rpca-rarefied-ordination.qza \\\n",
    "    --o-distance-matrix {root}data/Microbiome/lr-metrics/rpca-rarefied-distance.qza\n",
    "#rarified to 10300"
   ]
  },
  {
   "cell_type": "code",
   "execution_count": 47,
   "metadata": {},
   "outputs": [
    {
     "name": "stdout",
     "output_type": "stream",
     "text": [
      "\u001b[32mSaved Visualization to: /Users/callaband/Desktop/UCSD/KnightLab/Haddad/16S_HFHC_10wk_IHC/data/Microbiome/lr-metrics/rarefy-qc.qzv\u001b[0m\r\n",
      "\u001b[0m"
     ]
    }
   ],
   "source": [
    "!qiime gemelli qc-rarefy \\\n",
    "    --i-table {root}data/Microbiome/lr-metrics/longIHC_gg2filt_feces_table_10300.qza \\\n",
    "    --i-rarefied-distance {root}data/Microbiome/lr-metrics/rpca-rarefied-distance.qza \\\n",
    "    --i-unrarefied-distance {root}data/Microbiome/lr-metrics/rpca-distance.qza \\\n",
    "    --o-visualization {root}data/Microbiome/lr-metrics/rarefy-qc.qzv\n",
    "#to rarefy or not to rarefy (preferred)? Answer says no, not significantly different results"
   ]
  },
  {
   "cell_type": "markdown",
   "metadata": {},
   "source": [
    "#### Filtering"
   ]
  },
  {
   "cell_type": "code",
   "execution_count": 68,
   "metadata": {},
   "outputs": [
    {
     "name": "stdout",
     "output_type": "stream",
     "text": [
      "\u001b[32mSaved FeatureTable[Frequency] to: /Users/callaband/Desktop/UCSD/KnightLab/Haddad/16S_HFHC_10wk_IHC/data/Microbiome/lr-metrics/longIHC_gg2filt_feces_table_10300_rarefilt.qza\u001b[0m\r\n",
      "\u001b[0m"
     ]
    }
   ],
   "source": [
    "!qiime feature-table filter-features-conditionally \\\n",
    "    --i-table {root}data/Microbiome/lr-metrics/longIHC_gg2filt_feces_table_10300.qza \\\n",
    "    --p-abundance 0.001 \\\n",
    "    --p-prevalence 0.5 \\\n",
    "    --o-filtered-table {root}data/Microbiome/lr-metrics/longIHC_gg2filt_feces_table_10300_rarefilt.qza\n",
    "#remove features/ASVs not in at least 50% of samples"
   ]
  },
  {
   "cell_type": "code",
   "execution_count": 70,
   "metadata": {},
   "outputs": [
    {
     "name": "stdout",
     "output_type": "stream",
     "text": [
      "\u001b[32mSaved PCoAResults % Properties('biplot') to: /Users/callaband/Desktop/UCSD/KnightLab/Haddad/16S_HFHC_10wk_IHC/data/Microbiome/lr-metrics/rpca-ordination-filt.qza\u001b[0m\n",
      "\u001b[32mSaved DistanceMatrix to: /Users/callaband/Desktop/UCSD/KnightLab/Haddad/16S_HFHC_10wk_IHC/data/Microbiome/lr-metrics/rpca-distance-filt.qza\u001b[0m\n",
      "\u001b[0m"
     ]
    }
   ],
   "source": [
    "!qiime gemelli rpca \\\n",
    "    --i-table {root}data/Microbiome/lr-metrics/longIHC_gg2filt_feces_table_10300_rarefilt.qza \\\n",
    "    --o-biplot {root}data/Microbiome/lr-metrics/rpca-ordination-filt.qza \\\n",
    "    --o-distance-matrix {root}data/Microbiome/lr-metrics/rpca-distance-filt.qza"
   ]
  },
  {
   "cell_type": "markdown",
   "metadata": {},
   "source": [
    "#### Plots"
   ]
  },
  {
   "cell_type": "code",
   "execution_count": 71,
   "metadata": {},
   "outputs": [
    {
     "name": "stdout",
     "output_type": "stream",
     "text": [
      "\u001b[32mSaved Visualization to: /Users/callaband/Desktop/UCSD/KnightLab/Haddad/16S_HFHC_10wk_IHC/data/Microbiome/lr-metrics/rpca-biplot.qzv\u001b[0m\n",
      "\u001b[0m"
     ]
    }
   ],
   "source": [
    "!qiime emperor biplot \\\n",
    "    --i-biplot {root}data/Microbiome/lr-metrics/rpca-ordination-filt.qza \\\n",
    "    --m-sample-metadata-file {root}data/Microbiome/longIHC_metadata_cleaned.txt \\\n",
    "    --m-feature-metadata-file {root}data/Microbiome/longIHC_gg2filt_taxonomy.qza \\\n",
    "    --p-number-of-features 8 \\\n",
    "    --o-visualization {root}data/Microbiome/lr-metrics/rpca-biplot.qzv"
   ]
  },
  {
   "cell_type": "code",
   "execution_count": 8,
   "metadata": {},
   "outputs": [
    {
     "name": "stdout",
     "output_type": "stream",
     "text": [
      "\u001b[32mSaved Visualization to: /Users/callaband/Desktop/UCSD/KnightLab/Haddad/16S_HFHC_10wk_IHC/data/Microbiome/lr-metrics/rpca-empplot_age.qzv\u001b[0m\r\n",
      "\u001b[0m"
     ]
    }
   ],
   "source": [
    "!qiime emperor plot \\\n",
    "    --i-pcoa {root}data/Microbiome/lr-metrics/rpca-ordination-filt.qza \\\n",
    "    --m-metadata-file {root}data/Microbiome/longIHC_metadata_cleaned.txt \\\n",
    "    --p-custom-axes host_age \\\n",
    "    --p-ignore-pcoa-features True \\\n",
    "    --o-visualization {root}data/Microbiome/lr-metrics/rpca-empplot_age.qzv"
   ]
  },
  {
   "cell_type": "code",
   "execution_count": 72,
   "metadata": {},
   "outputs": [
    {
     "name": "stdout",
     "output_type": "stream",
     "text": [
      "\u001b[32mSaved Visualization to: /Users/callaband/Desktop/UCSD/KnightLab/Haddad/16S_HFHC_10wk_IHC/data/Microbiome/lr-metrics/rpca_diet-exp_bsig.qzv\u001b[0m\r\n",
      "\u001b[0m"
     ]
    }
   ],
   "source": [
    "!qiime diversity beta-group-significance \\\n",
    "    --i-distance-matrix {root}data/Microbiome/lr-metrics/rpca-distance-filt.qza \\\n",
    "    --m-metadata-file {root}data/Microbiome/longIHC_metadata_cleaned.txt \\\n",
    "    --m-metadata-column diet_exp \\\n",
    "    --p-method permanova \\\n",
    "    --p-pairwise True \\\n",
    "    --o-visualization {root}data/Microbiome/lr-metrics/rpca_diet-exp_bsig.qzv"
   ]
  },
  {
   "cell_type": "code",
   "execution_count": 73,
   "metadata": {},
   "outputs": [
    {
     "name": "stdout",
     "output_type": "stream",
     "text": [
      "\u001b[32mSaved Visualization to: /Users/callaband/Desktop/UCSD/KnightLab/Haddad/16S_HFHC_10wk_IHC/data/Microbiome/lr-metrics/rpca_qurro_plot.qzv\u001b[0m\r\n",
      "\u001b[0m"
     ]
    }
   ],
   "source": [
    "!qiime qurro loading-plot \\\n",
    "    --i-ranks {root}data/Microbiome/lr-metrics/rpca-ordination-filt.qza \\\n",
    "    --i-table {root}data/Microbiome/lr-metrics/longIHC_gg2filt_feces_table_10300.qza \\\n",
    "    --m-sample-metadata-file {root}data/Microbiome/longIHC_metadata_cleaned.txt \\\n",
    "    --m-feature-metadata-file {root}data/Microbiome/longIHC_gg2filt_taxonomy.qza \\\n",
    "    --o-visualization {root}data/Microbiome/lr-metrics/rpca_qurro_plot.qzv"
   ]
  },
  {
   "cell_type": "markdown",
   "metadata": {},
   "source": [
    "#### HFHC Diet Only"
   ]
  },
  {
   "cell_type": "code",
   "execution_count": 74,
   "metadata": {},
   "outputs": [
    {
     "name": "stdout",
     "output_type": "stream",
     "text": [
      "\u001b[32mSaved FeatureTable[Frequency] to: /Users/callaband/Desktop/UCSD/KnightLab/Haddad/16S_HFHC_10wk_IHC/data/Microbiome/lr-metrics/longIHC_gg2filt_feces_table_10300_rarefilt_HFDonly.qza\u001b[0m\r\n",
      "\u001b[0m"
     ]
    }
   ],
   "source": [
    "!qiime feature-table filter-samples \\\n",
    "    --i-table {root}data/Microbiome/lr-metrics/longIHC_gg2filt_feces_table_10300_rarefilt.qza \\\n",
    "    --m-metadata-file {root}data/Microbiome/longIHC_metadata_cleaned.txt \\\n",
    "    --p-where '[diet]=\"High Fat Diet\"' \\\n",
    "    --o-filtered-table {root}data/Microbiome/lr-metrics/longIHC_gg2filt_feces_table_10300_rarefilt_HFDonly.qza\n",
    "#HFD = High Fat, High Cholesterol Diet (HFHC), also known as \"Atherogenic Diet\""
   ]
  },
  {
   "cell_type": "code",
   "execution_count": 75,
   "metadata": {},
   "outputs": [
    {
     "name": "stdout",
     "output_type": "stream",
     "text": [
      "\u001b[32mSaved PCoAResults % Properties('biplot') to: /Users/callaband/Desktop/UCSD/KnightLab/Haddad/16S_HFHC_10wk_IHC/data/Microbiome/lr-metrics/rpca-ordination-HFDonly.qza\u001b[0m\n",
      "\u001b[32mSaved DistanceMatrix to: /Users/callaband/Desktop/UCSD/KnightLab/Haddad/16S_HFHC_10wk_IHC/data/Microbiome/lr-metrics/rpca-distance-HFDonly.qza\u001b[0m\n",
      "\u001b[0m"
     ]
    }
   ],
   "source": [
    "!qiime gemelli rpca \\\n",
    "    --i-table {root}data/Microbiome/lr-metrics/longIHC_gg2filt_feces_table_10300_rarefilt_HFDonly.qza \\\n",
    "    --o-biplot {root}data/Microbiome/lr-metrics/rpca-ordination-HFDonly.qza \\\n",
    "    --o-distance-matrix {root}data/Microbiome/lr-metrics/rpca-distance-HFDonly.qza"
   ]
  },
  {
   "cell_type": "code",
   "execution_count": 76,
   "metadata": {},
   "outputs": [
    {
     "name": "stdout",
     "output_type": "stream",
     "text": [
      "\u001b[32mSaved Visualization to: /Users/callaband/Desktop/UCSD/KnightLab/Haddad/16S_HFHC_10wk_IHC/data/Microbiome/lr-metrics/rpca-biplot-HFDonly.qzv\u001b[0m\r\n",
      "\u001b[0m"
     ]
    }
   ],
   "source": [
    "!qiime emperor biplot \\\n",
    "    --i-biplot {root}data/Microbiome/lr-metrics/rpca-ordination-HFDonly.qza \\\n",
    "    --m-sample-metadata-file {root}data/Microbiome/longIHC_metadata_cleaned.txt \\\n",
    "    --m-feature-metadata-file {root}data/Microbiome/longIHC_gg2filt_taxonomy.qza \\\n",
    "    --p-number-of-features 8 \\\n",
    "    --o-visualization {root}data/Microbiome/lr-metrics/rpca-biplot-HFDonly.qzv"
   ]
  },
  {
   "cell_type": "code",
   "execution_count": 77,
   "metadata": {},
   "outputs": [
    {
     "name": "stdout",
     "output_type": "stream",
     "text": [
      "\u001b[32mSaved Visualization to: /Users/callaband/Desktop/UCSD/KnightLab/Haddad/16S_HFHC_10wk_IHC/data/Microbiome/lr-metrics/rpca_HFDdiet_exp-bsig.qzv\u001b[0m\r\n",
      "\u001b[0m"
     ]
    }
   ],
   "source": [
    "!qiime diversity beta-group-significance \\\n",
    "    --i-distance-matrix {root}data/Microbiome/lr-metrics/rpca-distance-HFDonly.qza \\\n",
    "    --m-metadata-file {root}data/Microbiome/longIHC_metadata_cleaned.txt \\\n",
    "    --m-metadata-column exposure_type \\\n",
    "    --p-method permanova \\\n",
    "    --o-visualization {root}data/Microbiome/lr-metrics/rpca_HFDdiet_exp-bsig.qzv"
   ]
  },
  {
   "cell_type": "code",
   "execution_count": 78,
   "metadata": {},
   "outputs": [
    {
     "name": "stdout",
     "output_type": "stream",
     "text": [
      "\u001b[32mSaved Visualization to: /Users/callaband/Desktop/UCSD/KnightLab/Haddad/16S_HFHC_10wk_IHC/data/Microbiome/lr-metrics/rpca_qurro_plot_HFDonly.qzv\u001b[0m\r\n",
      "\u001b[0m"
     ]
    }
   ],
   "source": [
    "!qiime qurro loading-plot \\\n",
    "    --i-ranks {root}data/Microbiome/lr-metrics/rpca-ordination-HFDonly.qza \\\n",
    "    --i-table {root}data/Microbiome/lr-metrics/longIHC_gg2filt_feces_table_10300_rarefilt_HFDonly.qza \\\n",
    "    --m-sample-metadata-file {root}data/Microbiome/longIHC_metadata_cleaned.txt \\\n",
    "    --m-feature-metadata-file {root}data/Microbiome/longIHC_gg2filt_taxonomy.qza \\\n",
    "    --o-visualization {root}data/Microbiome/lr-metrics/rpca_qurro_plot_HFDonly.qzv"
   ]
  },
  {
   "cell_type": "markdown",
   "metadata": {},
   "source": [
    "# CTF"
   ]
  },
  {
   "cell_type": "markdown",
   "metadata": {},
   "source": [
    "#### All diet_exp groups"
   ]
  },
  {
   "cell_type": "code",
   "execution_count": 79,
   "metadata": {},
   "outputs": [
    {
     "name": "stdout",
     "output_type": "stream",
     "text": [
      "\u001b[32mSaved PCoAResults % Properties('biplot') to: /Users/callaband/Desktop/UCSD/KnightLab/Haddad/16S_HFHC_10wk_IHC/data/Microbiome/lr-metrics/ctf-results/subject_biplot.qza\u001b[0m\n",
      "\u001b[32mSaved PCoAResults % Properties('biplot') to: /Users/callaband/Desktop/UCSD/KnightLab/Haddad/16S_HFHC_10wk_IHC/data/Microbiome/lr-metrics/ctf-results/state_biplot.qza\u001b[0m\n",
      "\u001b[32mSaved DistanceMatrix to: /Users/callaband/Desktop/UCSD/KnightLab/Haddad/16S_HFHC_10wk_IHC/data/Microbiome/lr-metrics/ctf-results/distance_matrix.qza\u001b[0m\n",
      "\u001b[32mSaved SampleData[SampleTrajectory] to: /Users/callaband/Desktop/UCSD/KnightLab/Haddad/16S_HFHC_10wk_IHC/data/Microbiome/lr-metrics/ctf-results/state_subject_ordination.qza\u001b[0m\n",
      "\u001b[32mSaved FeatureData[FeatureTrajectory] to: /Users/callaband/Desktop/UCSD/KnightLab/Haddad/16S_HFHC_10wk_IHC/data/Microbiome/lr-metrics/ctf-results/state_feature_ordination.qza\u001b[0m\n",
      "\u001b[0m"
     ]
    }
   ],
   "source": [
    "!qiime gemelli ctf\\\n",
    "    --i-table  {root}data/Microbiome/lr-metrics/longIHC_gg2filt_feces_table_10300_rarefilt.qza \\\n",
    "    --m-sample-metadata-file {root}data/Microbiome/longIHC_metadata_cleaned.txt \\\n",
    "    --m-feature-metadata-file {root}data/Microbiome/longIHC_gg2filt_taxonomy.qza \\\n",
    "    --p-state-column host_age \\\n",
    "    --p-individual-id-column host_subject_id \\\n",
    "    --output-dir {root}data/Microbiome/lr-metrics/ctf-results"
   ]
  },
  {
   "cell_type": "code",
   "execution_count": 80,
   "metadata": {},
   "outputs": [
    {
     "name": "stdout",
     "output_type": "stream",
     "text": [
      "\u001b[32mSaved Visualization to: /Users/callaband/Desktop/UCSD/KnightLab/Haddad/16S_HFHC_10wk_IHC/data/Microbiome/lr-metrics/ctf-results/state_subject_ordination.qzv\u001b[0m\r\n",
      "\u001b[0m"
     ]
    }
   ],
   "source": [
    "!qiime longitudinal volatility \\\n",
    "    --m-metadata-file {root}data/Microbiome/lr-metrics/ctf-results/state_subject_ordination.qza \\\n",
    "    --p-state-column host_age \\\n",
    "    --p-individual-id-column subject_id \\\n",
    "    --p-default-group-column diet_exp \\\n",
    "    --p-default-metric PC1 \\\n",
    "    --o-visualization {root}data/Microbiome/lr-metrics/ctf-results/state_subject_ordination.qzv"
   ]
  },
  {
   "cell_type": "code",
   "execution_count": 101,
   "metadata": {},
   "outputs": [
    {
     "data": {
      "text/html": [
       "<div>\n",
       "<style scoped>\n",
       "    .dataframe tbody tr th:only-of-type {\n",
       "        vertical-align: middle;\n",
       "    }\n",
       "\n",
       "    .dataframe tbody tr th {\n",
       "        vertical-align: top;\n",
       "    }\n",
       "\n",
       "    .dataframe thead th {\n",
       "        text-align: right;\n",
       "    }\n",
       "</style>\n",
       "<table border=\"1\" class=\"dataframe\">\n",
       "  <thead>\n",
       "    <tr style=\"text-align: right;\">\n",
       "      <th></th>\n",
       "      <th>diet_exp</th>\n",
       "      <th>diet</th>\n",
       "      <th>exposure_type</th>\n",
       "      <th>cage_number</th>\n",
       "    </tr>\n",
       "    <tr>\n",
       "      <th>#SampleID</th>\n",
       "      <th></th>\n",
       "      <th></th>\n",
       "      <th></th>\n",
       "      <th></th>\n",
       "    </tr>\n",
       "  </thead>\n",
       "  <tbody>\n",
       "    <tr>\n",
       "      <th>Mouse 100</th>\n",
       "      <td>HFD_IHC</td>\n",
       "      <td>High Fat Diet</td>\n",
       "      <td>IHC</td>\n",
       "      <td>A18</td>\n",
       "    </tr>\n",
       "    <tr>\n",
       "      <th>Mouse 101</th>\n",
       "      <td>HFD_IHC</td>\n",
       "      <td>High Fat Diet</td>\n",
       "      <td>IHC</td>\n",
       "      <td>A19</td>\n",
       "    </tr>\n",
       "    <tr>\n",
       "      <th>Mouse 102</th>\n",
       "      <td>HFD_IHC</td>\n",
       "      <td>High Fat Diet</td>\n",
       "      <td>IHC</td>\n",
       "      <td>A19</td>\n",
       "    </tr>\n",
       "    <tr>\n",
       "      <th>Mouse 103</th>\n",
       "      <td>HFD_IHC</td>\n",
       "      <td>High Fat Diet</td>\n",
       "      <td>IHC</td>\n",
       "      <td>A19</td>\n",
       "    </tr>\n",
       "    <tr>\n",
       "      <th>Mouse 104</th>\n",
       "      <td>HFD_IHC</td>\n",
       "      <td>High Fat Diet</td>\n",
       "      <td>IHC</td>\n",
       "      <td>A19</td>\n",
       "    </tr>\n",
       "  </tbody>\n",
       "</table>\n",
       "</div>"
      ],
      "text/plain": [
       "          diet_exp           diet exposure_type cage_number\n",
       "#SampleID                                                  \n",
       "Mouse 100  HFD_IHC  High Fat Diet           IHC         A18\n",
       "Mouse 101  HFD_IHC  High Fat Diet           IHC         A19\n",
       "Mouse 102  HFD_IHC  High Fat Diet           IHC         A19\n",
       "Mouse 103  HFD_IHC  High Fat Diet           IHC         A19\n",
       "Mouse 104  HFD_IHC  High Fat Diet           IHC         A19"
      ]
     },
     "execution_count": 101,
     "metadata": {},
     "output_type": "execute_result"
    }
   ],
   "source": [
    "import pandas as pd\n",
    "\n",
    "# first we import the metdata into pandas\n",
    "mf = pd.read_csv('../data/Microbiome/longIHC_metadata_cleaned.txt', sep='\\t',index_col=0)\n",
    "# next we aggregate by subjects (i.e. 'host_subject_id') \n",
    "# and keep the first instance of 'exposure_type' by subject.\n",
    "mf = mf.groupby('host_subject_id').agg({'diet_exp':'first','diet':'first', 'exposure_type':'first', 'cage_number':'first'})\n",
    "# now we save the metadata in QIIME2 format.\n",
    "mf.index.name = '#SampleID'\n",
    "mf.to_csv('../data/Microbiome/lr-metrics/ctf-results/ctf-metadata.tsv', sep='\\t')\n",
    "mf.head()"
   ]
  },
  {
   "cell_type": "code",
   "execution_count": 102,
   "metadata": {},
   "outputs": [
    {
     "name": "stdout",
     "output_type": "stream",
     "text": [
      "\u001b[32mSaved Visualization to: /Users/callaband/Desktop/UCSD/KnightLab/Haddad/16S_HFHC_10wk_IHC/data/Microbiome/lr-metrics/ctf-results/ctf_biplot.qzv\u001b[0m\n",
      "\u001b[0m"
     ]
    }
   ],
   "source": [
    "!qiime emperor biplot \\\n",
    "    --i-biplot {root}data/Microbiome/lr-metrics/ctf-results/subject_biplot.qza \\\n",
    "    --m-sample-metadata-file ../data/Microbiome/lr-metrics/ctf-results/ctf-metadata.tsv \\\n",
    "    --m-feature-metadata-file {root}data/Microbiome/longIHC_gg2filt_taxonomy.qza \\\n",
    "    --p-number-of-features 100 \\\n",
    "    --o-visualization {root}data/Microbiome/lr-metrics/ctf-results/ctf_biplot.qzv"
   ]
  },
  {
   "cell_type": "code",
   "execution_count": 103,
   "metadata": {},
   "outputs": [
    {
     "name": "stdout",
     "output_type": "stream",
     "text": [
      "\u001b[32mSaved Visualization to: /Users/callaband/Desktop/UCSD/KnightLab/Haddad/16S_HFHC_10wk_IHC/data/Microbiome/lr-metrics/ctf-results/ctf-qurro.qzv\u001b[0m\n",
      "\u001b[0m"
     ]
    }
   ],
   "source": [
    "!qiime qurro loading-plot \\\n",
    "    --i-table {root}data/Microbiome/lr-metrics/longIHC_gg2filt_feces_table_10300.qza \\\n",
    "    --i-ranks {root}data/Microbiome/lr-metrics/ctf-results/subject_biplot.qza \\\n",
    "    --m-sample-metadata-file {root}data/Microbiome/longIHC_metadata_cleaned.txt \\\n",
    "    --m-feature-metadata-file {root}data/Microbiome/longIHC_gg2filt_taxonomy.qza \\\n",
    "    --o-visualization {root}data/Microbiome/lr-metrics/ctf-results/ctf-qurro.qzv"
   ]
  },
  {
   "cell_type": "code",
   "execution_count": 106,
   "metadata": {},
   "outputs": [
    {
     "data": {
      "text/html": [
       "<div>\n",
       "<style scoped>\n",
       "    .dataframe tbody tr th:only-of-type {\n",
       "        vertical-align: middle;\n",
       "    }\n",
       "\n",
       "    .dataframe tbody tr th {\n",
       "        vertical-align: top;\n",
       "    }\n",
       "\n",
       "    .dataframe thead th {\n",
       "        text-align: right;\n",
       "    }\n",
       "</style>\n",
       "<table border=\"1\" class=\"dataframe\">\n",
       "  <thead>\n",
       "    <tr style=\"text-align: right;\">\n",
       "      <th></th>\n",
       "      <th>LachnospiraceaeOscillospiraceae_Muribaculaceae</th>\n",
       "      <th>anonymized_name</th>\n",
       "      <th>cage_food_consumption_g</th>\n",
       "      <th>cage_location</th>\n",
       "      <th>cage_notes</th>\n",
       "      <th>cage_number</th>\n",
       "      <th>collection_timestamp</th>\n",
       "      <th>description</th>\n",
       "      <th>diet</th>\n",
       "      <th>dna_extracted</th>\n",
       "      <th>...</th>\n",
       "      <th>sample_name_orit</th>\n",
       "      <th>sample_type</th>\n",
       "      <th>scientific_name</th>\n",
       "      <th>sex</th>\n",
       "      <th>taxon_id</th>\n",
       "      <th>timepoint</th>\n",
       "      <th>title</th>\n",
       "      <th>treatment</th>\n",
       "      <th>diet_short</th>\n",
       "      <th>diet_exp</th>\n",
       "    </tr>\n",
       "    <tr>\n",
       "      <th>#SampleID</th>\n",
       "      <th></th>\n",
       "      <th></th>\n",
       "      <th></th>\n",
       "      <th></th>\n",
       "      <th></th>\n",
       "      <th></th>\n",
       "      <th></th>\n",
       "      <th></th>\n",
       "      <th></th>\n",
       "      <th></th>\n",
       "      <th></th>\n",
       "      <th></th>\n",
       "      <th></th>\n",
       "      <th></th>\n",
       "      <th></th>\n",
       "      <th></th>\n",
       "      <th></th>\n",
       "      <th></th>\n",
       "      <th></th>\n",
       "      <th></th>\n",
       "      <th></th>\n",
       "    </tr>\n",
       "  </thead>\n",
       "  <tbody>\n",
       "    <tr>\n",
       "      <th>11548.A16.91.4</th>\n",
       "      <td>-2.454484</td>\n",
       "      <td>A16.91.4</td>\n",
       "      <td>61</td>\n",
       "      <td>on shelf</td>\n",
       "      <td>NaN</td>\n",
       "      <td>A16</td>\n",
       "      <td>10/6/17 11:00</td>\n",
       "      <td>Mouse 91 stool collection 4 of 20</td>\n",
       "      <td>Regular chow</td>\n",
       "      <td>True</td>\n",
       "      <td>...</td>\n",
       "      <td>a16.91.4</td>\n",
       "      <td>feces</td>\n",
       "      <td>mouse gut metagenome</td>\n",
       "      <td>male</td>\n",
       "      <td>410661</td>\n",
       "      <td>not provided</td>\n",
       "      <td>10 week IHC</td>\n",
       "      <td>not provided</td>\n",
       "      <td>RC</td>\n",
       "      <td>RC_AIR</td>\n",
       "    </tr>\n",
       "    <tr>\n",
       "      <th>11548.A15.85.11</th>\n",
       "      <td>-3.286373</td>\n",
       "      <td>A15.85.11</td>\n",
       "      <td>96.7</td>\n",
       "      <td>on shelf</td>\n",
       "      <td>NaN</td>\n",
       "      <td>A15</td>\n",
       "      <td>10/31/17 11:00</td>\n",
       "      <td>Mouse 85 stool collection 11 of 20</td>\n",
       "      <td>Regular chow</td>\n",
       "      <td>True</td>\n",
       "      <td>...</td>\n",
       "      <td>a15.85.11</td>\n",
       "      <td>feces</td>\n",
       "      <td>mouse gut metagenome</td>\n",
       "      <td>male</td>\n",
       "      <td>410661</td>\n",
       "      <td>not provided</td>\n",
       "      <td>10 week IHC</td>\n",
       "      <td>not provided</td>\n",
       "      <td>RC</td>\n",
       "      <td>RC_AIR</td>\n",
       "    </tr>\n",
       "    <tr>\n",
       "      <th>11548.A15.87.8</th>\n",
       "      <td>-2.796646</td>\n",
       "      <td>A15.87.8</td>\n",
       "      <td>75.9</td>\n",
       "      <td>on shelf</td>\n",
       "      <td>NaN</td>\n",
       "      <td>A15</td>\n",
       "      <td>10/20/17 11:00</td>\n",
       "      <td>Mouse 87 stool collection 8 of 20</td>\n",
       "      <td>Regular chow</td>\n",
       "      <td>True</td>\n",
       "      <td>...</td>\n",
       "      <td>a15.87.8</td>\n",
       "      <td>feces</td>\n",
       "      <td>mouse gut metagenome</td>\n",
       "      <td>male</td>\n",
       "      <td>410661</td>\n",
       "      <td>not provided</td>\n",
       "      <td>10 week IHC</td>\n",
       "      <td>not provided</td>\n",
       "      <td>RC</td>\n",
       "      <td>RC_AIR</td>\n",
       "    </tr>\n",
       "    <tr>\n",
       "      <th>11548.A16.92.3</th>\n",
       "      <td>-0.972407</td>\n",
       "      <td>A16.92.3</td>\n",
       "      <td>85.4</td>\n",
       "      <td>on shelf</td>\n",
       "      <td>put nyla bones in cage</td>\n",
       "      <td>A16</td>\n",
       "      <td>10/3/17 11:00</td>\n",
       "      <td>Mouse 92 stool collection 3 of 20</td>\n",
       "      <td>Regular chow</td>\n",
       "      <td>True</td>\n",
       "      <td>...</td>\n",
       "      <td>a16.92.3</td>\n",
       "      <td>feces</td>\n",
       "      <td>mouse gut metagenome</td>\n",
       "      <td>male</td>\n",
       "      <td>410661</td>\n",
       "      <td>not provided</td>\n",
       "      <td>10 week IHC</td>\n",
       "      <td>not provided</td>\n",
       "      <td>RC</td>\n",
       "      <td>RC_AIR</td>\n",
       "    </tr>\n",
       "    <tr>\n",
       "      <th>11548.A16.89.6</th>\n",
       "      <td>-3.302443</td>\n",
       "      <td>A16.89.6</td>\n",
       "      <td>65.3</td>\n",
       "      <td>on shelf</td>\n",
       "      <td>NaN</td>\n",
       "      <td>A16</td>\n",
       "      <td>10/13/17 11:00</td>\n",
       "      <td>Mouse 89 stool collection 6 of 20</td>\n",
       "      <td>Regular chow</td>\n",
       "      <td>True</td>\n",
       "      <td>...</td>\n",
       "      <td>A16.89.6</td>\n",
       "      <td>feces</td>\n",
       "      <td>mouse gut metagenome</td>\n",
       "      <td>male</td>\n",
       "      <td>410661</td>\n",
       "      <td>NaN</td>\n",
       "      <td>10 week IHC</td>\n",
       "      <td>NaN</td>\n",
       "      <td>RC</td>\n",
       "      <td>RC_AIR</td>\n",
       "    </tr>\n",
       "  </tbody>\n",
       "</table>\n",
       "<p>5 rows × 54 columns</p>\n",
       "</div>"
      ],
      "text/plain": [
       "                 LachnospiraceaeOscillospiraceae_Muribaculaceae  \\\n",
       "#SampleID                                                         \n",
       "11548.A16.91.4                                        -2.454484   \n",
       "11548.A15.85.11                                       -3.286373   \n",
       "11548.A15.87.8                                        -2.796646   \n",
       "11548.A16.92.3                                        -0.972407   \n",
       "11548.A16.89.6                                        -3.302443   \n",
       "\n",
       "                anonymized_name cage_food_consumption_g cage_location  \\\n",
       "#SampleID                                                               \n",
       "11548.A16.91.4         A16.91.4                      61      on shelf   \n",
       "11548.A15.85.11       A15.85.11                    96.7      on shelf   \n",
       "11548.A15.87.8         A15.87.8                    75.9      on shelf   \n",
       "11548.A16.92.3         A16.92.3                    85.4      on shelf   \n",
       "11548.A16.89.6         A16.89.6                    65.3      on shelf   \n",
       "\n",
       "                             cage_notes cage_number collection_timestamp  \\\n",
       "#SampleID                                                                  \n",
       "11548.A16.91.4                      NaN         A16        10/6/17 11:00   \n",
       "11548.A15.85.11                     NaN         A15       10/31/17 11:00   \n",
       "11548.A15.87.8                      NaN         A15       10/20/17 11:00   \n",
       "11548.A16.92.3   put nyla bones in cage         A16        10/3/17 11:00   \n",
       "11548.A16.89.6                      NaN         A16       10/13/17 11:00   \n",
       "\n",
       "                                        description          diet  \\\n",
       "#SampleID                                                           \n",
       "11548.A16.91.4    Mouse 91 stool collection 4 of 20  Regular chow   \n",
       "11548.A15.85.11  Mouse 85 stool collection 11 of 20  Regular chow   \n",
       "11548.A15.87.8    Mouse 87 stool collection 8 of 20  Regular chow   \n",
       "11548.A16.92.3    Mouse 92 stool collection 3 of 20  Regular chow   \n",
       "11548.A16.89.6    Mouse 89 stool collection 6 of 20  Regular chow   \n",
       "\n",
       "                 dna_extracted  ... sample_name_orit  sample_type  \\\n",
       "#SampleID                       ...                                 \n",
       "11548.A16.91.4            True  ...         a16.91.4        feces   \n",
       "11548.A15.85.11           True  ...        a15.85.11        feces   \n",
       "11548.A15.87.8            True  ...         a15.87.8        feces   \n",
       "11548.A16.92.3            True  ...         a16.92.3        feces   \n",
       "11548.A16.89.6            True  ...         A16.89.6        feces   \n",
       "\n",
       "                      scientific_name   sex taxon_id     timepoint  \\\n",
       "#SampleID                                                            \n",
       "11548.A16.91.4   mouse gut metagenome  male   410661  not provided   \n",
       "11548.A15.85.11  mouse gut metagenome  male   410661  not provided   \n",
       "11548.A15.87.8   mouse gut metagenome  male   410661  not provided   \n",
       "11548.A16.92.3   mouse gut metagenome  male   410661  not provided   \n",
       "11548.A16.89.6   mouse gut metagenome  male   410661           NaN   \n",
       "\n",
       "                       title     treatment diet_short diet_exp  \n",
       "#SampleID                                                       \n",
       "11548.A16.91.4   10 week IHC  not provided         RC   RC_AIR  \n",
       "11548.A15.85.11  10 week IHC  not provided         RC   RC_AIR  \n",
       "11548.A15.87.8   10 week IHC  not provided         RC   RC_AIR  \n",
       "11548.A16.92.3   10 week IHC  not provided         RC   RC_AIR  \n",
       "11548.A16.89.6   10 week IHC           NaN         RC   RC_AIR  \n",
       "\n",
       "[5 rows x 54 columns]"
      ]
     },
     "execution_count": 106,
     "metadata": {},
     "output_type": "execute_result"
    }
   ],
   "source": [
    "# import log-ratio data\n",
    "metadata_one = pd.read_csv('../data/Microbiome/longIHC_metadata_cleaned.txt',\n",
    "                           sep='\\t', index_col=0)\n",
    "# import rest of the metadata\n",
    "metadata_two = pd.read_csv('../data/Microbiome/lr-metrics/ctf-results/lr_LachnospiraceaeOscillospiraceae_Muribaculaceae.tsv',\n",
    "                           sep='\\t', index_col=0)[['Current_Natural_Log_Ratio']]\n",
    "#rename LR column so you know what they are\n",
    "metadata_two.rename(columns={'Current_Natural_Log_Ratio':'LachnospiraceaeOscillospiraceae_Muribaculaceae'}, inplace=True)\n",
    "# merge the data\n",
    "log_ratio_metdata = pd.concat([metadata_two, metadata_one], axis=1)\n",
    "# drop rows with no LR value\n",
    "log_ratio_metdata = log_ratio_metdata.dropna(subset=['LachnospiraceaeOscillospiraceae_Muribaculaceae'])\n",
    "# export in QIIME2 format\n",
    "log_ratio_metdata.index.name = '#SampleID'\n",
    "log_ratio_metdata.to_csv('../data/Microbiome/lr-metrics/ctf-results/lr_merged-data.tsv', sep='\\t')\n",
    "log_ratio_metdata.head()"
   ]
  },
  {
   "cell_type": "code",
   "execution_count": 109,
   "metadata": {},
   "outputs": [
    {
     "name": "stdout",
     "output_type": "stream",
     "text": [
      "\u001b[32mSaved Visualization to: ../data/Microbiome/lr-metrics/ctf-results/qurro_log-ratio_volatility_plot.qzv\u001b[0m\r\n",
      "\u001b[0m"
     ]
    }
   ],
   "source": [
    "!qiime longitudinal volatility \\\n",
    "    --m-metadata-file ../data/Microbiome/lr-metrics/ctf-results/lr_merged-data.tsv \\\n",
    "    --p-state-column host_age \\\n",
    "    --p-individual-id-column host_subject_id \\\n",
    "    --p-default-group-column diet_exp \\\n",
    "    --p-default-metric LachnospiraceaeOscillospiraceae_Muribaculaceae \\\n",
    "    --o-visualization ../data/Microbiome/lr-metrics/ctf-results/qurro_log-ratio_volatility_plot.qzv"
   ]
  },
  {
   "cell_type": "code",
   "execution_count": 111,
   "metadata": {},
   "outputs": [
    {
     "name": "stdout",
     "output_type": "stream",
     "text": [
      "\u001b[32mSaved Visualization to: ../data/Microbiome/lr-metrics/ctf-results/ctf-qurro-log-ratio_LME.qzv\u001b[0m\r\n",
      "\u001b[0m"
     ]
    }
   ],
   "source": [
    "!qiime longitudinal linear-mixed-effects\\\n",
    "    --m-metadata-file ../data/Microbiome/lr-metrics/ctf-results/lr_merged-data.tsv \\\n",
    "    --p-state-column host_age \\\n",
    "    --p-individual-id-column host_subject_id \\\n",
    "    --p-group-columns diet_exp \\\n",
    "    --p-metric LachnospiraceaeOscillospiraceae_Muribaculaceae \\\n",
    "    --o-visualization ../data/Microbiome/lr-metrics/ctf-results/ctf-qurro-log-ratio_LME.qzv"
   ]
  },
  {
   "cell_type": "markdown",
   "metadata": {},
   "source": [
    "#### HFHC Diet Only"
   ]
  },
  {
   "cell_type": "code",
   "execution_count": 84,
   "metadata": {},
   "outputs": [
    {
     "name": "stdout",
     "output_type": "stream",
     "text": [
      "\u001b[32mSaved PCoAResults % Properties('biplot') to: /Users/callaband/Desktop/UCSD/KnightLab/Haddad/16S_HFHC_10wk_IHC/data/Microbiome/lr-metrics/ctf-results-HFDonly/subject_biplot.qza\u001b[0m\n",
      "\u001b[32mSaved PCoAResults % Properties('biplot') to: /Users/callaband/Desktop/UCSD/KnightLab/Haddad/16S_HFHC_10wk_IHC/data/Microbiome/lr-metrics/ctf-results-HFDonly/state_biplot.qza\u001b[0m\n",
      "\u001b[32mSaved DistanceMatrix to: /Users/callaband/Desktop/UCSD/KnightLab/Haddad/16S_HFHC_10wk_IHC/data/Microbiome/lr-metrics/ctf-results-HFDonly/distance_matrix.qza\u001b[0m\n",
      "\u001b[32mSaved SampleData[SampleTrajectory] to: /Users/callaband/Desktop/UCSD/KnightLab/Haddad/16S_HFHC_10wk_IHC/data/Microbiome/lr-metrics/ctf-results-HFDonly/state_subject_ordination.qza\u001b[0m\n",
      "\u001b[32mSaved FeatureData[FeatureTrajectory] to: /Users/callaband/Desktop/UCSD/KnightLab/Haddad/16S_HFHC_10wk_IHC/data/Microbiome/lr-metrics/ctf-results-HFDonly/state_feature_ordination.qza\u001b[0m\n",
      "\u001b[0m"
     ]
    }
   ],
   "source": [
    "!qiime gemelli ctf\\\n",
    "    --i-table  {root}data/Microbiome/lr-metrics/longIHC_gg2filt_feces_table_10300_rarefilt_HFDonly.qza  \\\n",
    "    --m-sample-metadata-file {root}data/Microbiome/longIHC_metadata_cleaned.txt \\\n",
    "    --m-feature-metadata-file {root}data/Microbiome/longIHC_gg2filt_taxonomy.qza \\\n",
    "    --p-state-column host_age \\\n",
    "    --p-individual-id-column host_subject_id \\\n",
    "    --output-dir {root}data/Microbiome/lr-metrics/ctf-results-HFDonly"
   ]
  },
  {
   "cell_type": "code",
   "execution_count": 85,
   "metadata": {},
   "outputs": [
    {
     "name": "stdout",
     "output_type": "stream",
     "text": [
      "\u001b[32mSaved Visualization to: /Users/callaband/Desktop/UCSD/KnightLab/Haddad/16S_HFHC_10wk_IHC/data/Microbiome/lr-metrics/ctf-results-HFDonly/state_subject_ordination.qzv\u001b[0m\n",
      "\u001b[0m"
     ]
    }
   ],
   "source": [
    "!qiime longitudinal volatility \\\n",
    "    --m-metadata-file {root}data/Microbiome/lr-metrics/ctf-results-HFDonly/state_subject_ordination.qza \\\n",
    "    --p-state-column host_age \\\n",
    "    --p-individual-id-column subject_id \\\n",
    "    --p-default-group-column exposure_type \\\n",
    "    --p-default-metric PC1 \\\n",
    "    --o-visualization {root}data/Microbiome/lr-metrics/ctf-results-HFDonly/state_subject_ordination.qzv"
   ]
  },
  {
   "cell_type": "code",
   "execution_count": 86,
   "metadata": {},
   "outputs": [
    {
     "data": {
      "text/html": [
       "<div>\n",
       "<style scoped>\n",
       "    .dataframe tbody tr th:only-of-type {\n",
       "        vertical-align: middle;\n",
       "    }\n",
       "\n",
       "    .dataframe tbody tr th {\n",
       "        vertical-align: top;\n",
       "    }\n",
       "\n",
       "    .dataframe thead th {\n",
       "        text-align: right;\n",
       "    }\n",
       "</style>\n",
       "<table border=\"1\" class=\"dataframe\">\n",
       "  <thead>\n",
       "    <tr style=\"text-align: right;\">\n",
       "      <th></th>\n",
       "      <th>diet_exp</th>\n",
       "      <th>diet</th>\n",
       "      <th>exposure_type</th>\n",
       "    </tr>\n",
       "    <tr>\n",
       "      <th>#SampleID</th>\n",
       "      <th></th>\n",
       "      <th></th>\n",
       "      <th></th>\n",
       "    </tr>\n",
       "  </thead>\n",
       "  <tbody>\n",
       "    <tr>\n",
       "      <th>Mouse 100</th>\n",
       "      <td>HFD_IHC</td>\n",
       "      <td>High Fat Diet</td>\n",
       "      <td>IHC</td>\n",
       "    </tr>\n",
       "    <tr>\n",
       "      <th>Mouse 101</th>\n",
       "      <td>HFD_IHC</td>\n",
       "      <td>High Fat Diet</td>\n",
       "      <td>IHC</td>\n",
       "    </tr>\n",
       "    <tr>\n",
       "      <th>Mouse 102</th>\n",
       "      <td>HFD_IHC</td>\n",
       "      <td>High Fat Diet</td>\n",
       "      <td>IHC</td>\n",
       "    </tr>\n",
       "    <tr>\n",
       "      <th>Mouse 103</th>\n",
       "      <td>HFD_IHC</td>\n",
       "      <td>High Fat Diet</td>\n",
       "      <td>IHC</td>\n",
       "    </tr>\n",
       "    <tr>\n",
       "      <th>Mouse 104</th>\n",
       "      <td>HFD_IHC</td>\n",
       "      <td>High Fat Diet</td>\n",
       "      <td>IHC</td>\n",
       "    </tr>\n",
       "  </tbody>\n",
       "</table>\n",
       "</div>"
      ],
      "text/plain": [
       "          diet_exp           diet exposure_type\n",
       "#SampleID                                      \n",
       "Mouse 100  HFD_IHC  High Fat Diet           IHC\n",
       "Mouse 101  HFD_IHC  High Fat Diet           IHC\n",
       "Mouse 102  HFD_IHC  High Fat Diet           IHC\n",
       "Mouse 103  HFD_IHC  High Fat Diet           IHC\n",
       "Mouse 104  HFD_IHC  High Fat Diet           IHC"
      ]
     },
     "execution_count": 86,
     "metadata": {},
     "output_type": "execute_result"
    }
   ],
   "source": [
    "import pandas as pd\n",
    "\n",
    "# first we import the metdata into pandas\n",
    "mf = pd.read_csv('../data/Microbiome/longIHC_metadata_cleaned.txt', sep='\\t',index_col=0)\n",
    "# next we aggregate by subjects (i.e. 'host_subject_id') \n",
    "# and keep the first instance of 'exposure_type' by subject.\n",
    "mf = mf.groupby('host_subject_id').agg({'diet_exp':'first','diet':'first', 'exposure_type':'first'})\n",
    "# now we save the metadata in QIIME2 format.\n",
    "mf.index.name = '#SampleID'\n",
    "mf.to_csv('../data/Microbiome/lr-metrics/ctf-results-HFDonly/ctf-metadata.tsv', sep='\\t')\n",
    "mf.head()"
   ]
  },
  {
   "cell_type": "code",
   "execution_count": 87,
   "metadata": {},
   "outputs": [
    {
     "name": "stdout",
     "output_type": "stream",
     "text": [
      "\u001b[32mSaved Visualization to: /Users/callaband/Desktop/UCSD/KnightLab/Haddad/16S_HFHC_10wk_IHC/data/Microbiome/lr-metrics/ctf-results-HFDonly/ctf_biplot_HFDonly.qzv\u001b[0m\r\n",
      "\u001b[0m"
     ]
    }
   ],
   "source": [
    "!qiime emperor biplot \\\n",
    "    --i-biplot {root}data/Microbiome/lr-metrics/ctf-results-HFDonly/subject_biplot.qza \\\n",
    "    --m-sample-metadata-file ../data/Microbiome/lr-metrics/ctf-results-HFDonly/ctf-metadata.tsv \\\n",
    "    --m-feature-metadata-file {root}data/Microbiome/longIHC_gg2filt_taxonomy.qza \\\n",
    "    --p-number-of-features 100 \\\n",
    "    --o-visualization {root}data/Microbiome/lr-metrics/ctf-results-HFDonly/ctf_biplot_HFDonly.qzv"
   ]
  },
  {
   "cell_type": "code",
   "execution_count": 88,
   "metadata": {},
   "outputs": [
    {
     "name": "stdout",
     "output_type": "stream",
     "text": [
      "\u001b[32mSaved Visualization to: /Users/callaband/Desktop/UCSD/KnightLab/Haddad/16S_HFHC_10wk_IHC/data/Microbiome/lr-metrics/ctf-results-HFDonly/ctf-qurro.qzv\u001b[0m\r\n",
      "\u001b[0m"
     ]
    }
   ],
   "source": [
    "!qiime qurro loading-plot \\\n",
    "    --i-table {root}data/Microbiome/lr-metrics/longIHC_gg2filt_feces_table_10300_rarefilt_HFDonly.qza \\\n",
    "    --i-ranks {root}data/Microbiome/lr-metrics/ctf-results-HFDonly/subject_biplot.qza \\\n",
    "    --m-sample-metadata-file {root}data/Microbiome/longIHC_metadata_cleaned.txt \\\n",
    "    --m-feature-metadata-file {root}data/Microbiome/longIHC_gg2filt_taxonomy.qza \\\n",
    "    --o-visualization {root}data/Microbiome/lr-metrics/ctf-results-HFDonly/ctf-qurro.qzv"
   ]
  },
  {
   "cell_type": "code",
   "execution_count": 97,
   "metadata": {},
   "outputs": [
    {
     "data": {
      "text/html": [
       "<div>\n",
       "<style scoped>\n",
       "    .dataframe tbody tr th:only-of-type {\n",
       "        vertical-align: middle;\n",
       "    }\n",
       "\n",
       "    .dataframe tbody tr th {\n",
       "        vertical-align: top;\n",
       "    }\n",
       "\n",
       "    .dataframe thead th {\n",
       "        text-align: right;\n",
       "    }\n",
       "</style>\n",
       "<table border=\"1\" class=\"dataframe\">\n",
       "  <thead>\n",
       "    <tr style=\"text-align: right;\">\n",
       "      <th></th>\n",
       "      <th>TopBot3Num_Axis1</th>\n",
       "      <th>anonymized_name</th>\n",
       "      <th>cage_food_consumption_g</th>\n",
       "      <th>cage_location</th>\n",
       "      <th>cage_notes</th>\n",
       "      <th>cage_number</th>\n",
       "      <th>collection_timestamp</th>\n",
       "      <th>description</th>\n",
       "      <th>diet</th>\n",
       "      <th>dna_extracted</th>\n",
       "      <th>...</th>\n",
       "      <th>sample_name_orit</th>\n",
       "      <th>sample_type</th>\n",
       "      <th>scientific_name</th>\n",
       "      <th>sex</th>\n",
       "      <th>taxon_id</th>\n",
       "      <th>timepoint</th>\n",
       "      <th>title</th>\n",
       "      <th>treatment</th>\n",
       "      <th>diet_short</th>\n",
       "      <th>diet_exp</th>\n",
       "    </tr>\n",
       "    <tr>\n",
       "      <th>#SampleID</th>\n",
       "      <th></th>\n",
       "      <th></th>\n",
       "      <th></th>\n",
       "      <th></th>\n",
       "      <th></th>\n",
       "      <th></th>\n",
       "      <th></th>\n",
       "      <th></th>\n",
       "      <th></th>\n",
       "      <th></th>\n",
       "      <th></th>\n",
       "      <th></th>\n",
       "      <th></th>\n",
       "      <th></th>\n",
       "      <th></th>\n",
       "      <th></th>\n",
       "      <th></th>\n",
       "      <th></th>\n",
       "      <th></th>\n",
       "      <th></th>\n",
       "      <th></th>\n",
       "    </tr>\n",
       "  </thead>\n",
       "  <tbody>\n",
       "    <tr>\n",
       "      <th>11548.A18.100.17</th>\n",
       "      <td>-2.636351</td>\n",
       "      <td>A18.100.17</td>\n",
       "      <td>40.5</td>\n",
       "      <td>in chamber</td>\n",
       "      <td>new bag of food</td>\n",
       "      <td>A18</td>\n",
       "      <td>11/21/17 10:00</td>\n",
       "      <td>Mouse 100 stool collection 17 of 20</td>\n",
       "      <td>High Fat Diet</td>\n",
       "      <td>True</td>\n",
       "      <td>...</td>\n",
       "      <td>a18.100.17</td>\n",
       "      <td>feces</td>\n",
       "      <td>mouse gut metagenome</td>\n",
       "      <td>male</td>\n",
       "      <td>410661</td>\n",
       "      <td>not provided</td>\n",
       "      <td>10 week IHC</td>\n",
       "      <td>not provided</td>\n",
       "      <td>HFD</td>\n",
       "      <td>HFD_IHC</td>\n",
       "    </tr>\n",
       "    <tr>\n",
       "      <th>11548.A18.97.16</th>\n",
       "      <td>-0.650270</td>\n",
       "      <td>A18.97.16</td>\n",
       "      <td>28.7</td>\n",
       "      <td>in chamber</td>\n",
       "      <td>NaN</td>\n",
       "      <td>A18</td>\n",
       "      <td>11/17/17 10:00</td>\n",
       "      <td>Mouse 97 stool collection 16 of 20</td>\n",
       "      <td>High Fat Diet</td>\n",
       "      <td>True</td>\n",
       "      <td>...</td>\n",
       "      <td>A18.97.16</td>\n",
       "      <td>feces</td>\n",
       "      <td>mouse gut metagenome</td>\n",
       "      <td>male</td>\n",
       "      <td>410661</td>\n",
       "      <td>NaN</td>\n",
       "      <td>10 week IHC</td>\n",
       "      <td>NaN</td>\n",
       "      <td>HFD</td>\n",
       "      <td>HFD_IHC</td>\n",
       "    </tr>\n",
       "    <tr>\n",
       "      <th>11548.A18.100.18</th>\n",
       "      <td>-2.118630</td>\n",
       "      <td>A18.100.18</td>\n",
       "      <td>27.9</td>\n",
       "      <td>in chamber</td>\n",
       "      <td>NaN</td>\n",
       "      <td>A18</td>\n",
       "      <td>11/24/17 10:00</td>\n",
       "      <td>Mouse 100 stool collection 18 of 20</td>\n",
       "      <td>High Fat Diet</td>\n",
       "      <td>True</td>\n",
       "      <td>...</td>\n",
       "      <td>a18.100.18</td>\n",
       "      <td>feces</td>\n",
       "      <td>mouse gut metagenome</td>\n",
       "      <td>male</td>\n",
       "      <td>410661</td>\n",
       "      <td>not provided</td>\n",
       "      <td>10 week IHC</td>\n",
       "      <td>not provided</td>\n",
       "      <td>HFD</td>\n",
       "      <td>HFD_IHC</td>\n",
       "    </tr>\n",
       "    <tr>\n",
       "      <th>11548.A18.98.15</th>\n",
       "      <td>-1.531331</td>\n",
       "      <td>A18.98.15</td>\n",
       "      <td>40.2</td>\n",
       "      <td>in chamber</td>\n",
       "      <td>NaN</td>\n",
       "      <td>A18</td>\n",
       "      <td>11/14/17 10:00</td>\n",
       "      <td>Mouse 98 stool collection 15 of 20</td>\n",
       "      <td>High Fat Diet</td>\n",
       "      <td>True</td>\n",
       "      <td>...</td>\n",
       "      <td>A18.98.15</td>\n",
       "      <td>feces</td>\n",
       "      <td>mouse gut metagenome</td>\n",
       "      <td>male</td>\n",
       "      <td>410661</td>\n",
       "      <td>NaN</td>\n",
       "      <td>10 week IHC</td>\n",
       "      <td>NaN</td>\n",
       "      <td>HFD</td>\n",
       "      <td>HFD_IHC</td>\n",
       "    </tr>\n",
       "    <tr>\n",
       "      <th>11548.A18.97.17</th>\n",
       "      <td>1.297741</td>\n",
       "      <td>A18.97.17</td>\n",
       "      <td>40.5</td>\n",
       "      <td>in chamber</td>\n",
       "      <td>new bag of food</td>\n",
       "      <td>A18</td>\n",
       "      <td>11/21/17 10:00</td>\n",
       "      <td>Mouse 97 stool collection 17 of 20</td>\n",
       "      <td>High Fat Diet</td>\n",
       "      <td>True</td>\n",
       "      <td>...</td>\n",
       "      <td>a18.97.17</td>\n",
       "      <td>feces</td>\n",
       "      <td>mouse gut metagenome</td>\n",
       "      <td>male</td>\n",
       "      <td>410661</td>\n",
       "      <td>not provided</td>\n",
       "      <td>10 week IHC</td>\n",
       "      <td>not provided</td>\n",
       "      <td>HFD</td>\n",
       "      <td>HFD_IHC</td>\n",
       "    </tr>\n",
       "  </tbody>\n",
       "</table>\n",
       "<p>5 rows × 54 columns</p>\n",
       "</div>"
      ],
      "text/plain": [
       "                  TopBot3Num_Axis1 anonymized_name cage_food_consumption_g  \\\n",
       "#SampleID                                                                    \n",
       "11548.A18.100.17         -2.636351      A18.100.17                    40.5   \n",
       "11548.A18.97.16          -0.650270       A18.97.16                    28.7   \n",
       "11548.A18.100.18         -2.118630      A18.100.18                    27.9   \n",
       "11548.A18.98.15          -1.531331       A18.98.15                    40.2   \n",
       "11548.A18.97.17           1.297741       A18.97.17                    40.5   \n",
       "\n",
       "                 cage_location       cage_notes cage_number  \\\n",
       "#SampleID                                                     \n",
       "11548.A18.100.17    in chamber  new bag of food         A18   \n",
       "11548.A18.97.16     in chamber              NaN         A18   \n",
       "11548.A18.100.18    in chamber              NaN         A18   \n",
       "11548.A18.98.15     in chamber              NaN         A18   \n",
       "11548.A18.97.17     in chamber  new bag of food         A18   \n",
       "\n",
       "                 collection_timestamp                          description  \\\n",
       "#SampleID                                                                    \n",
       "11548.A18.100.17       11/21/17 10:00  Mouse 100 stool collection 17 of 20   \n",
       "11548.A18.97.16        11/17/17 10:00   Mouse 97 stool collection 16 of 20   \n",
       "11548.A18.100.18       11/24/17 10:00  Mouse 100 stool collection 18 of 20   \n",
       "11548.A18.98.15        11/14/17 10:00   Mouse 98 stool collection 15 of 20   \n",
       "11548.A18.97.17        11/21/17 10:00   Mouse 97 stool collection 17 of 20   \n",
       "\n",
       "                           diet  dna_extracted  ... sample_name_orit  \\\n",
       "#SampleID                                       ...                    \n",
       "11548.A18.100.17  High Fat Diet           True  ...       a18.100.17   \n",
       "11548.A18.97.16   High Fat Diet           True  ...        A18.97.16   \n",
       "11548.A18.100.18  High Fat Diet           True  ...       a18.100.18   \n",
       "11548.A18.98.15   High Fat Diet           True  ...        A18.98.15   \n",
       "11548.A18.97.17   High Fat Diet           True  ...        a18.97.17   \n",
       "\n",
       "                  sample_type       scientific_name   sex taxon_id  \\\n",
       "#SampleID                                                            \n",
       "11548.A18.100.17        feces  mouse gut metagenome  male   410661   \n",
       "11548.A18.97.16         feces  mouse gut metagenome  male   410661   \n",
       "11548.A18.100.18        feces  mouse gut metagenome  male   410661   \n",
       "11548.A18.98.15         feces  mouse gut metagenome  male   410661   \n",
       "11548.A18.97.17         feces  mouse gut metagenome  male   410661   \n",
       "\n",
       "                     timepoint        title     treatment diet_short diet_exp  \n",
       "#SampleID                                                                      \n",
       "11548.A18.100.17  not provided  10 week IHC  not provided        HFD  HFD_IHC  \n",
       "11548.A18.97.16            NaN  10 week IHC           NaN        HFD  HFD_IHC  \n",
       "11548.A18.100.18  not provided  10 week IHC  not provided        HFD  HFD_IHC  \n",
       "11548.A18.98.15            NaN  10 week IHC           NaN        HFD  HFD_IHC  \n",
       "11548.A18.97.17   not provided  10 week IHC  not provided        HFD  HFD_IHC  \n",
       "\n",
       "[5 rows x 54 columns]"
      ]
     },
     "execution_count": 97,
     "metadata": {},
     "output_type": "execute_result"
    }
   ],
   "source": [
    "# import log-ratio data\n",
    "metadata_one = pd.read_csv('../data/Microbiome/longIHC_metadata_cleaned.txt',\n",
    "                           sep='\\t', index_col=0)\n",
    "# import rest of the metadata\n",
    "metadata_two = pd.read_csv('../data/Microbiome/lr-metrics/ctf-results-HFDonly/HFDonly_LR_topbot3num_Axis1.tsv',\n",
    "                           sep='\\t', index_col=0)[['Current_Natural_Log_Ratio']]\n",
    "#rename LR column so you know what they are\n",
    "metadata_two.rename(columns={'Current_Natural_Log_Ratio':'TopBot3Num_Axis1'}, inplace=True)\n",
    "# merge the data\n",
    "log_ratio_metdata = pd.concat([metadata_two, metadata_one], axis=1)\n",
    "#drop rows with no value for LR\n",
    "log_ratio_metdata = log_ratio_metdata.dropna(subset=['TopBot3Num_Axis1'])\n",
    "# export in QIIME2 format\n",
    "log_ratio_metdata.index.name = '#SampleID'\n",
    "log_ratio_metdata.to_csv('../data/Microbiome/lr-metrics/ctf-results-HFDonly/lr_merged-data.tsv', sep='\\t')\n",
    "log_ratio_metdata.head()"
   ]
  },
  {
   "cell_type": "code",
   "execution_count": 99,
   "metadata": {},
   "outputs": [
    {
     "name": "stdout",
     "output_type": "stream",
     "text": [
      "\u001b[32mSaved Visualization to: ../data/Microbiome/lr-metrics/ctf-results-HFDonly/qurro_log-ratio_volatility_plot.qzv\u001b[0m\r\n",
      "\u001b[0m"
     ]
    }
   ],
   "source": [
    "!qiime longitudinal volatility \\\n",
    "    --m-metadata-file ../data/Microbiome/lr-metrics/ctf-results-HFDonly/lr_merged-data.tsv \\\n",
    "    --p-state-column host_age \\\n",
    "    --p-individual-id-column host_subject_id \\\n",
    "    --p-default-group-column diet_exp \\\n",
    "    --p-default-metric TopBot3Num_Axis1 \\\n",
    "    --o-visualization ../data/Microbiome/lr-metrics/ctf-results-HFDonly/qurro_log-ratio_volatility_plot.qzv"
   ]
  },
  {
   "cell_type": "code",
   "execution_count": 98,
   "metadata": {},
   "outputs": [
    {
     "name": "stdout",
     "output_type": "stream",
     "text": [
      "\u001b[32mSaved Visualization to: ../data/Microbiome/lr-metrics/ctf-results-HFDonly/ctf-qurro-log-ratio_LME.qzv\u001b[0m\r\n",
      "\u001b[0m"
     ]
    }
   ],
   "source": [
    "!qiime longitudinal linear-mixed-effects\\\n",
    "    --m-metadata-file ../data/Microbiome/lr-metrics/ctf-results-HFDonly/lr_merged-data.tsv \\\n",
    "    --p-state-column host_age \\\n",
    "    --p-individual-id-column host_subject_id \\\n",
    "    --p-group-columns diet_exp \\\n",
    "    --p-metric TopBot3Num_Axis1 \\\n",
    "    --o-visualization ../data/Microbiome/lr-metrics/ctf-results-HFDonly/ctf-qurro-log-ratio_LME.qzv"
   ]
  }
 ],
 "metadata": {
  "kernelspec": {
   "display_name": "Python 3 (ipykernel)",
   "language": "python",
   "name": "python3"
  },
  "language_info": {
   "codemirror_mode": {
    "name": "ipython",
    "version": 3
   },
   "file_extension": ".py",
   "mimetype": "text/x-python",
   "name": "python",
   "nbconvert_exporter": "python",
   "pygments_lexer": "ipython3",
   "version": "3.9.19"
  }
 },
 "nbformat": 4,
 "nbformat_minor": 4
}
